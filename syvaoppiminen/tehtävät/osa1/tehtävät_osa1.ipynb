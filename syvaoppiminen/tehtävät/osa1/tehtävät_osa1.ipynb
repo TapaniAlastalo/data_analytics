{
 "cells": [
  {
   "cell_type": "markdown",
   "metadata": {},
   "source": [
    "# Tehtävä 0.\n",
    "## Aihe: Ympäristön pystytys\n",
    "\n",
    "Luo ohjelmointiympäristö asentamalla syväoppimiseen tarvittavat kirjastot. Seuraa materiaaleista \"ympäristön_pystytys.md\" ohjeita.\n",
    "\n",
    "Kun olet asentanut kirjastot, aja alla oleva solu. Jos ei tule virhettä, niin ympäristösi on asennettu oikein."
   ]
  },
  {
   "cell_type": "code",
   "execution_count": null,
   "metadata": {
    "tags": [
     "answers_1_0"
    ]
   },
   "outputs": [],
   "source": [
    "import numpy as np\n",
    "import pandas as pd\n",
    "import sklearn\n",
    "import tensorflow as tf\n",
    "\n",
    "print(tf.__version__) # Pitäisi tulostaa tensorflow 2.0 tai uudempi versio"
   ]
  },
  {
   "cell_type": "code",
   "execution_count": null,
   "metadata": {
    "tags": [
     "answers_1_0"
    ]
   },
   "outputs": [],
   "source": [
    "# jos olet asentanut Tensorflowin GPU eli näytönohjain version, alla olevan funktion pitäisi palauttaa \"True\". \n",
    "# Jos et käytä Tensorflowin GPU versiota, älä välitä tästä.\n",
    "tf.test.is_gpu_available(cuda_only=True)"
   ]
  },
  {
   "cell_type": "markdown",
   "metadata": {},
   "source": [
    "# Tehtävä 1\n",
    "### Aihe: Datan esikäsittely ja ohjattu oppiminen\n",
    "3,3 pistettä\n",
    "\n",
    "1. Katso diabetes - datasetin tiedot Kagglesta https://www.kaggle.com/uciml/pima-indians-diabetes-database ja lataa \"likainen\" versio tästä datasetistä osoitteesta https://student.labranet.jamk.fi/~korpjo/files/diabetes.csv\n",
    "\n",
    "2. Lataa csv-tiedosto Pandas DataFrameen, suorita seuraavat datan siivoamisoperaatiot:\n",
    "    * Pudota NaN rivit\n",
    "    * Pudota identtiset rivit\n",
    "    * Korvaa suuresti poikkeavat arvot jollakin järkevällä arvolla (Vinkki: Visualisoi sarakkeiden arvot)\n",
    "\n",
    "3. Tämän jälkeen skaalaa data käyttäen standardisointia tai minimi-maksimi skaalausta.\n",
    "\n",
    "4. Muuta datasetti valvotun oppimisen muotoon, eli erottele data ominaisuuksiin ja ennustettaviin arvoihin. \n",
    "\n",
    "5. Jaa datasetti koulutus- ja testidatasettiin.\n",
    "\n",
    "6. Aja \"Tehtävän vastaukset\" solu, jossa todistetaan, että DataFrame on siivottu ja valmis koneoppimisen malleille:\n",
    "    * Ei identtisiä rivejä (Funktion df.duplicated().any().sum() tulos on 0)\n",
    "    * Ei NaN rivejä (Funktion df.isna().any().sum() tulos on 0)"
   ]
  },
  {
   "cell_type": "code",
   "execution_count": null,
   "metadata": {},
   "outputs": [],
   "source": [
    "# Tehtävän toteutus\n",
    "df = pd.read_csv('...')"
   ]
  },
  {
   "cell_type": "code",
   "execution_count": null,
   "metadata": {
    "tags": [
     "answers_1_1"
    ]
   },
   "outputs": [],
   "source": [
    "# Tehtävän vastaukset. Huom! Älä muokkaa tätä solua, vaan aja se, kun olet suorittanut tehtävän. Sijoita muokkaamasi dataframe df - muuttujaan.\n",
    "print(\"Amount of NaN rows in dataframe: \",df.isna().any().sum())\n",
    "print(\"Amount of duplicate rows in dataframe: \",df.duplicated().any().sum())"
   ]
  },
  {
   "cell_type": "markdown",
   "metadata": {},
   "source": [
    "# Tehtävä 2.\n",
    "### Aihe: Neuroverkko käsin\n",
    "3,3 pistettä\n",
    "\n",
    "Alla on määritelty koordinaattipareja, joiden avulla on piirretty kahta eri värisiä pisteitä. Tavoitteena on luoda neuroverkko, joka jakaa kuvaajan siniseen ja punaiseen alueeseen. Kun kuvaajaan piirretään uusi piste ja pisteen koordinaatit syötetään neuroverkolle, neuroverkon ennuste kertoo sen, minkä värinen piste on.\n",
    "\n",
    "Katso materiaaleista, miten luot neuroverkon käsin käyttäen NumPy - kirjaston taulukoita ja funktioita. \n",
    "\n",
    "1. Luo koulutusdatasetti koordinaattipisteet ja värit ominaisuuksiin ja ennustettaviin arvoihin.\n",
    "2. Luo neuroverkkoluokka, jonka rakenne on:\n",
    "    * Sisääntulokerros, jossa on kaksi neuronia\n",
    "    * Yksi piiloitettua kerros, jossa on 6 neuronia ja aktivaatiofunktiona sigmoid.\n",
    "    * Ulostulokerros, jossa yksi neuroni ja aktivaatiofunktiona sigmoid.\n",
    "3. Luo funktiot, joiden avulla lasket neuroverkon ennustuksen syöttödatalle (forwardpropagation) ja päivität yhteyksien painoarvoja virheen avulla (backpropagation)\n",
    "4. Syötä koulutusdatasetti 1000 kertaa neuroverkon läpi.\n",
    "    * Syötä jokaisella kierroksella koulutusdata rivi riviltä neuroverkon läpi ja päivitä painoarvot.\n",
    "    * Tallenna kierroksen aikana virheet jokaiselle syötölle, ja lisää kierroksen virheistä keskiarvo listaan. Piirrä kuvaaja siitä, kuinka virhe muuttuu koulutuksen aikana\n",
    "5. Ennusta neuroverkolla, minkä värinen on piste: [0.1,-5.8]\n",
    "6. Aja \"Tehtävän vastaukset\" solu\n",
    "\n",
    "Vinkkejä:\n",
    "* Piirrä neuroverkon rakenne piirrustusohjelmalla tai paperille, näät silloin yhteyksien määrän jokaisessa kerroksessa.\n",
    "* Käytä olemassa olevaa ratkaisua materiaaleista, lisää siihen tarvittavat laskut jokaiselle kerrokselle."
   ]
  },
  {
   "cell_type": "code",
   "execution_count": 4,
   "metadata": {},
   "outputs": [
    {
     "data": {
      "text/plain": [
       "<matplotlib.collections.PathCollection at 0x24cf5d91f88>"
      ]
     },
     "execution_count": 4,
     "metadata": {},
     "output_type": "execute_result"
    },
    {
     "data": {
      "image/png": "[encoded data removed]",
      "text/plain": [
       "<Figure size 432x288 with 1 Axes>"
      ]
     },
     "metadata": {
      "needs_background": "light"
     },
     "output_type": "display_data"
    }
   ],
   "source": [
    "import matplotlib.pyplot as plt\n",
    "from sklearn.datasets import make_blobs\n",
    "\n",
    "dots, labels = make_blobs(n_samples=40,centers=2,n_features=2,random_state=50)\n",
    "colors = ['red' if label == 0 else 'blue' for label in labels]\n",
    "plt.scatter(dots[:,0],dots[:,1],color=colors)"
   ]
  },
  {
   "cell_type": "code",
   "execution_count": null,
   "metadata": {},
   "outputs": [],
   "source": [
    "# Tehtävän toteutus jatkuu tästä"
   ]
  },
  {
   "cell_type": "code",
   "execution_count": null,
   "metadata": {
    "tags": [
     "answers_1_2"
    ]
   },
   "outputs": [],
   "source": [
    "# Tehtävän vastaukset. Huom! Älä muokkaa tätä solua, vaan aja se, kun olet suorittanut tehtävän. Sijoita output - muuttujaan neuroverkon ennuste syötölle [0.1,-5.8]\n",
    "print(output)"
   ]
  },
  {
   "cell_type": "markdown",
   "metadata": {},
   "source": [
    "# Tehtävä 3\n",
    "### Aihe: Yksinkertainen neuroverkko Keras Sequential API:lla\n",
    "3,3 pistettä\n",
    "\n",
    "Koulutetaan yksinkertainen neuroverkko Kerassilla käyttäen tehtävässä 1 puhdistettua diabetes datasettiä. (Jos tehtävän teko ei onnistunut, lataa datasetti Kagglesta)\n",
    "\n",
    "Tehtävästä on löydyttävä vaiheet:\n",
    "1. Luo neuroverkko (käytä tf.keras.Sequential() funktiota)\n",
    "2. Määritä häviöfunktio ja optimisaattori (käytä model.compile() funktiota)\n",
    "3. Kouluta neuroverkko (käytä model.fit() funktiota)\n",
    "4. Vertaa neuroverkon ennustuksia testidataan (käytä model.evaluate() funktiota)\n",
    "5. Aja \"Tehtävän vastaukset\" solu"
   ]
  },
  {
   "cell_type": "code",
   "execution_count": null,
   "metadata": {},
   "outputs": [],
   "source": [
    "# Tehtävän toteutus"
   ]
  },
  {
   "cell_type": "code",
   "execution_count": null,
   "metadata": {
    "tags": [
     "answers_1_3"
    ]
   },
   "outputs": [],
   "source": [
    "# Tehtävän vastaukset. Huom! Älä muokkaa tätä solua, vaan aja se, kun olet suorittanut tehtävän. Sijoita results - muuttujaan funktion model.evaluate() tulos.\n",
    "# Muista määrittää model.compile() - funktioon seurattavaksi suureeksi metrics=['accuracy'], jotta näät, kuinka suuri osa neuroverkon ennustuksista on oikein.\n",
    "print(f\"Test Loss:{results[0]} Test Accuracy:{results[1]*100}%\")"
   ]
  }
 ],
 "metadata": {
  "kernelspec": {
   "display_name": "Python [conda env:tf2_gpu]",
   "language": "python",
   "name": "conda-env-tf2_gpu-py"
  },
  "language_info": {
   "codemirror_mode": {
    "name": "ipython",
    "version": 3
   },
   "file_extension": ".py",
   "mimetype": "text/x-python",
   "name": "python",
   "nbconvert_exporter": "python",
   "pygments_lexer": "ipython3",
   "version": "3.7.7"
  }
 },
 "nbformat": 4,
 "nbformat_minor": 4
}
