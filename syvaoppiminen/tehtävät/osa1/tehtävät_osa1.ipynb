{
 "cells": [
  {
   "cell_type": "markdown",
   "metadata": {},
   "source": [
    "# Tehtävä 0.\n",
    "## Aihe: Ympäristön pystytys\n",
    "\n",
    "Luo ohjelmointiympäristö asentamalla syväoppimiseen tarvittavat kirjastot. Seuraa materiaaleista \"ympäristön_pystytys.md\" ohjeita.\n",
    "\n",
    "Kun olet asentanut kirjastot, aja alla oleva solu. Jos ei tule virhettä, niin ympäristösi on asennettu oikein."
   ]
  },
  {
   "cell_type": "code",
   "execution_count": 1,
   "metadata": {
    "tags": [
     "answers_1_0"
    ]
   },
   "outputs": [
    {
     "name": "stdout",
     "output_type": "stream",
     "text": [
      "2.3.0\n"
     ]
    }
   ],
   "source": [
    "import numpy as np\n",
    "import pandas as pd\n",
    "import sklearn\n",
    "import tensorflow as tf\n",
    "\n",
    "print(tf.__version__) # Pitäisi tulostaa tensorflow 2.0 tai uudempi versio"
   ]
  },
  {
   "cell_type": "markdown",
   "metadata": {},
   "source": [
    "# Tehtävä 1\n",
    "### Aihe: Datan esikäsittely ja ohjattu oppiminen\n",
    "3,3 pistettä\n",
    "\n",
    "1. Katso diabetes - datasetin tiedot Kagglesta https://www.kaggle.com/uciml/pima-indians-diabetes-database ja lataa \"likainen\" versio tästä datasetistä osoitteesta https://student.labranet.jamk.fi/~korpjo/files/diabetes.csv\n",
    "\n",
    "2. Lataa csv-tiedosto Pandas DataFrameen, suorita seuraavat datan siivoamisoperaatiot:\n",
    "    * Pudota NaN rivit\n",
    "    * Pudota identtiset rivit\n",
    "    * Korvaa suuresti poikkeavat arvot jollakin järkevällä arvolla (Vinkki: Visualisoi sarakkeiden arvot)\n",
    "\n",
    "3. Tämän jälkeen skaalaa data käyttäen standardisointia tai minimi-maksimi skaalausta.\n",
    "\n",
    "4. Muuta datasetti valvotun oppimisen muotoon, eli erottele data ominaisuuksiin ja ennustettaviin arvoihin. \n",
    "\n",
    "5. Jaa datasetti koulutus- ja testidatasettiin.\n",
    "\n",
    "6. Aja \"Tehtävän vastaukset\" solu, jossa todistetaan, että DataFrame on siivottu ja valmis koneoppimisen malleille:\n",
    "    * Ei identtisiä rivejä (Funktion df.duplicated().any().sum() tulos on 0)\n",
    "    * Ei NaN rivejä (Funktion df.isna().any().sum() tulos on 0)"
   ]
  },
  {
   "cell_type": "code",
   "execution_count": 8,
   "metadata": {},
   "outputs": [],
   "source": [
    "# Tehtävän toteutus\n",
    "import numpy as np\n",
    "import pandas as pd\n",
    "import sklearn\n",
    "import tensorflow as tf\n",
    "import matplotlib.pyplot as plt\n",
    "\n",
    "from sklearn.preprocessing import StandardScaler\n",
    "from sklearn.preprocessing import MinMaxScaler\n",
    "\n",
    "df = pd.read_csv('../../data/diabetes.csv')\n",
    "# poista NaN rivit\n",
    "df.dropna(inplace=True)\n",
    "\n",
    "# poista duplikaatit\n",
    "df.drop_duplicates(keep='first', inplace=True)\n",
    "\n",
    "# korvaa suuresti poikkeavat arvot\n",
    "# laske mediaani ja korvaa 0 arvot sillä ja överi poikkeamat (max 2x median).\n",
    "replaceableValues = ['Glucose', 'BloodPressure', 'SkinThickness', 'Insulin', 'BMI']\n",
    "for value in replaceableValues:    \n",
    "    median = df[value][df[value] != 0].median()\n",
    "    maxM = 2.0 * median\n",
    "    df.loc[(df[value] == 0), value]= median\n",
    "    df.loc[(df[value] > maxM), value]= maxM\n",
    "    #dfplot = df[value]\n",
    "    #dfplot.plot.bar(figsize=(10, 4))\n",
    "    #plt.show()\n",
    "\n",
    "\n",
    "# sekoita pakka\n",
    "from sklearn.utils import shuffle\n",
    "df = shuffle(df)\n",
    "\n",
    "# muuta data valvotun oppimisen muotoon, eli erottele data ominaisuuksiin ja ennustettaviin arvoihin.\n",
    "# ominaisuudet sarakkeet 0-6; Sarake 7 ikä jää pois, koska nuoret eivät ole vielä kerenneet saada diabetestä, joten ikä sotkisi ennusteen. Lisäksi osa vanhoista ei kerkeä saamaan diabetestä ennen oletettua kuolemaa.\n",
    "x = np.array(df.iloc[:, 0:7])\n",
    "# ennustettava arvo sarake 8\n",
    "y = np.array(df.iloc[:, 8])\n",
    "\n",
    "# skaalaa standardoimalla / minimi-maksimi menetelmällä\n",
    "scaler = StandardScaler()\n",
    "#scaler = MinMaxScaler()\n",
    "scaledX = scaler.fit_transform(x.reshape(-1, 7))\n",
    "\n",
    "# Jaa datasetti koulutus- ja testidatasettiin, käytetään skaalattua x arvoa SEKÄ opetus-, että testidatassa!\n",
    "limiter = 400\n",
    "train_x = scaledX[:limiter]\n",
    "test_x = scaledX[limiter:]\n",
    "\n",
    "train_y = y[:limiter]\n",
    "test_y = y[limiter:]"
   ]
  },
  {
   "cell_type": "code",
   "execution_count": 9,
   "metadata": {
    "tags": [
     "answers_1_1"
    ]
   },
   "outputs": [
    {
     "name": "stdout",
     "output_type": "stream",
     "text": [
      "Amount of NaN rows in dataframe:  0\n",
      "Amount of duplicate rows in dataframe:  0\n"
     ]
    }
   ],
   "source": [
    "# Tehtävän vastaukset. Huom! Älä muokkaa tätä solua, vaan aja se, kun olet suorittanut tehtävän. Sijoita muokkaamasi dataframe df - muuttujaan.\n",
    "print(\"Amount of NaN rows in dataframe: \",df.isna().any().sum())\n",
    "print(\"Amount of duplicate rows in dataframe: \",df.duplicated().any().sum())"
   ]
  },
  {
   "cell_type": "markdown",
   "metadata": {},
   "source": [
    "# Tehtävä 2.\n",
    "### Aihe: Neuroverkko käsin\n",
    "3,3 pistettä\n",
    "\n",
    "Alla on määritelty koordinaattipareja, joiden avulla on piirretty kahta eri värisiä pisteitä. Tavoitteena on luoda neuroverkko, joka jakaa kuvaajan siniseen ja punaiseen alueeseen. Kun kuvaajaan piirretään uusi piste ja pisteen koordinaatit syötetään neuroverkolle, neuroverkon ennuste kertoo sen, minkä värinen piste on.\n",
    "\n",
    "Katso materiaaleista, miten luot neuroverkon käsin käyttäen NumPy - kirjaston taulukoita ja funktioita. \n",
    "\n",
    "1. Luo koulutusdatasetti koordinaattipisteet ja värit ominaisuuksiin ja ennustettaviin arvoihin.\n",
    "2. Luo neuroverkkoluokka, jonka rakenne on:\n",
    "    * Sisääntulokerros, jossa on kaksi neuronia\n",
    "    * Yksi piiloitettua kerros, jossa on 6 neuronia ja aktivaatiofunktiona sigmoid.\n",
    "    * Ulostulokerros, jossa yksi neuroni ja aktivaatiofunktiona sigmoid.\n",
    "3. Luo funktiot, joiden avulla lasket neuroverkon ennustuksen syöttödatalle (forwardpropagation) ja päivität yhteyksien painoarvoja virheen avulla (backpropagation)\n",
    "4. Syötä koulutusdatasetti 1000 kertaa neuroverkon läpi.\n",
    "    * Syötä jokaisella kierroksella koulutusdata rivi riviltä neuroverkon läpi ja päivitä painoarvot.\n",
    "    * Tallenna kierroksen aikana virheet jokaiselle syötölle, ja lisää kierroksen virheistä keskiarvo listaan. Piirrä kuvaaja siitä, kuinka virhe muuttuu koulutuksen aikana\n",
    "5. Ennusta neuroverkolla, minkä värinen on piste: [0.1,-5.8]\n",
    "6. Aja \"Tehtävän vastaukset\" solu\n",
    "\n",
    "Vinkkejä:\n",
    "* Piirrä neuroverkon rakenne piirrustusohjelmalla tai paperille, näät silloin yhteyksien määrän jokaisessa kerroksessa.\n",
    "* Käytä olemassa olevaa ratkaisua materiaaleista, lisää siihen tarvittavat laskut jokaiselle kerrokselle."
   ]
  },
  {
   "cell_type": "code",
   "execution_count": 4,
   "metadata": {},
   "outputs": [
    {
     "data": {
      "text/plain": [
       "<matplotlib.collections.PathCollection at 0x24cf5d91f88>"
      ]
     },
     "execution_count": 4,
     "metadata": {},
     "output_type": "execute_result"
    },
    {
     "data": {
      "image/png": "[encoded data removed]",
      "text/plain": [
       "<Figure size 432x288 with 1 Axes>"
      ]
     },
     "metadata": {
      "needs_background": "light"
     },
     "output_type": "display_data"
    }
   ],
   "source": [
    "import matplotlib.pyplot as plt\n",
    "from sklearn.datasets import make_blobs\n",
    "\n",
    "dots, labels = make_blobs(n_samples=40,centers=2,n_features=2,random_state=50)\n",
    "colors = ['red' if label == 0 else 'blue' for label in labels]\n",
    "plt.scatter(dots[:,0],dots[:,1],color=colors)"
   ]
  },
  {
   "cell_type": "code",
   "execution_count": 5,
   "metadata": {},
   "outputs": [
    {
     "name": "stdout",
     "output_type": "stream",
     "text": [
      "Epoch 100 Loss: [0.01982895]\n",
      "Epoch 200 Loss: [0.00784493]\n",
      "Epoch 300 Loss: [0.00445298]\n",
      "Epoch 400 Loss: [0.00300189]\n",
      "Epoch 500 Loss: [0.00222246]\n",
      "Epoch 600 Loss: [0.00174425]\n",
      "Epoch 700 Loss: [0.00142571]\n",
      "Epoch 800 Loss: [0.00127306]\n",
      "Epoch 900 Loss: [0.00099501]\n",
      "Epoch 1000 Loss: [0.00071371]\n"
     ]
    },
    {
     "data": {
      "image/png": "[encoded data removed]",
      "text/plain": [
       "<Figure size 432x288 with 1 Axes>"
      ]
     },
     "metadata": {
      "needs_background": "light"
     },
     "output_type": "display_data"
    },
    {
     "data": {
      "image/png": "[encoded data removed]",
      "text/plain": [
       "<Figure size 432x288 with 1 Axes>"
      ]
     },
     "metadata": {
      "needs_background": "light"
     },
     "output_type": "display_data"
    },
    {
     "name": "stdout",
     "output_type": "stream",
     "text": [
      "Lopputulos:[0.11963312]\n"
     ]
    }
   ],
   "source": [
    "from sklearn.datasets import make_blobs\n",
    "\n",
    "\n",
    "# Tehtävän toteutus jatkuu tästä\n",
    "class NeuralNetwork:\n",
    "    def __init__(self):\n",
    "        # Alustetaan painoarvot satunaisesti\n",
    "        self.weights1 = np.random.rand(2,6)\n",
    "        self.weights2 = np.random.rand(6,1)\n",
    "        \n",
    "    # Virhefunktio\n",
    "    def loss_function(self,true,prediction):\n",
    "        return 0.5 * (true - prediction)**2\n",
    "    \n",
    "    # Virhefunktion derivaatta\n",
    "    def loss_function_derivative(self,true,prediction):\n",
    "        return true - prediction\n",
    "    \n",
    "    # Sigmoid funktio\n",
    "    def sigmoid(self,x):\n",
    "        return 1 / (1 + np.exp(-x))\n",
    "    \n",
    "    # Sigmoidin derivaatta\n",
    "    def sigmoid_derivative(self,x):\n",
    "        return x * (1 - x)\n",
    "    \n",
    "    # Syöte neuroverkon kerrosten läpi\n",
    "    def forwardpropagation(self,X,y):\n",
    "        # Määritetään ominaisuudet ja halutut arvot NumPy - taulukoiksi sekä lasketaan kerrosten ulostulot\n",
    "        self.X = np.array([X])\n",
    "        self.y = np.array([y])\n",
    "        self.layer1 = self.sigmoid(np.dot(self.X, self.weights1))\n",
    "        self.output = self.sigmoid(np.dot(self.layer1, self.weights2))\n",
    "        self.loss = self.loss_function(self.y, self.output)\n",
    "    \n",
    "    # Painoarvojen päivitys backpropagation - menetelmällä\n",
    "    def backpropagation(self, learning_rate):\n",
    "        output_error = self.loss_function_derivative(self.y, self.output)\n",
    "        output_delta = output_error * self.sigmoid_derivative(self.output)\n",
    "        weights2_adjustment = np.dot(self.layer1.T, output_delta)\n",
    "\n",
    "        layer1_error = np.dot(output_delta, self.weights2.T)\n",
    "        layer1_delta = layer1_error * self.sigmoid_derivative(self.layer1)\n",
    "        weights1_adjustment = np.dot(self.X.T, layer1_delta)\n",
    "        \n",
    "        self.weights2 += learning_rate * weights2_adjustment\n",
    "        self.weights1 += learning_rate * weights1_adjustment\n",
    "\n",
    "\n",
    "dots, labels = make_blobs(n_samples=40,centers=2,n_features=2,random_state=50)\n",
    "colors = ['red' if label == 0 else 'blue' for label in labels]\n",
    "plt.scatter(dots[:,0],dots[:,1],color=colors)\n",
    "\n",
    "#df = pd.DataFrame({'x': dots[:,0], 'y': dots[:,1], 'labels':labels}) # ei tarvita dataframea\n",
    "# ominaisuudet\n",
    "train_x = dots\n",
    "train_y = labels\n",
    "\n",
    "# koulutusdatasetti 1000 kertaa neuroverkon läpi\n",
    "neural_network = NeuralNetwork()\n",
    "epoch_losses = []\n",
    "epochs = 1000\n",
    "for epoch in range(1,epochs+1):\n",
    "    batch_losses = [] # Lista, johon lisätään yhden kierroksen virhearvot\n",
    "    for X,y in zip(train_x,train_y):\n",
    "        neural_network.forwardpropagation(X,y)\n",
    "        neural_network.backpropagation(learning_rate = 0.01)\n",
    "        batch_losses.append(neural_network.loss[0])\n",
    "    epoch_losses.append(np.average(batch_losses)) # Otetaan keskiarvo yhden kierroksen virhearvoista\n",
    "    if epoch % 100 == 0:\n",
    "        print(f\"Epoch {epoch} Loss: {neural_network.loss[0]}\")\n",
    "\n",
    "\n",
    "# Kuvaaja virheen muutoksesta koulutuksen aikana\n",
    "fig, ax = plt.subplots()\n",
    "ax.plot(epoch_losses)\n",
    "ax.set_title(\"Neural Network Loss\")\n",
    "ax.set_xlabel('Epochs')\n",
    "ax.set_ylabel('Loss')\n",
    "plt.show()\n",
    "\n",
    "# testidata\n",
    "test_x = [0.1, -5.8]\n",
    "\n",
    "# testidatan ajaminen\n",
    "layer1_output = neural_network.sigmoid(np.dot(test_x, neural_network.weights1))\n",
    "test_output = neural_network.sigmoid(np.dot(layer1_output, neural_network.weights2))\n",
    "print('Lopputulos:' + str(test_output))\n",
    "rounded_output = np.round(test_output, 0)\n",
    "output = 'red' if rounded_output == 0 else 'blue'"
   ]
  },
  {
   "cell_type": "code",
   "execution_count": 6,
   "metadata": {
    "tags": [
     "answers_1_2"
    ]
   },
   "outputs": [
    {
     "name": "stdout",
     "output_type": "stream",
     "text": [
      "red\n"
     ]
    }
   ],
   "source": [
    "# Tehtävän vastaukset. Huom! Älä muokkaa tätä solua, vaan aja se, kun olet suorittanut tehtävän. Sijoita output - muuttujaan neuroverkon ennuste syötölle [0.1,-5.8]\n",
    "print(output)"
   ]
  },
  {
   "cell_type": "markdown",
   "metadata": {},
   "source": [
    "# Tehtävä 3\n",
    "### Aihe: Yksinkertainen neuroverkko Keras Sequential API:lla\n",
    "3,3 pistettä\n",
    "\n",
    "Koulutetaan yksinkertainen neuroverkko Kerassilla käyttäen tehtävässä 1 puhdistettua diabetes datasettiä. (Jos tehtävän teko ei onnistunut, lataa datasetti Kagglesta)\n",
    "\n",
    "Tehtävästä on löydyttävä vaiheet:\n",
    "1. Luo neuroverkko (käytä tf.keras.Sequential() funktiota)\n",
    "2. Määritä häviöfunktio ja optimisaattori (käytä model.compile() funktiota)\n",
    "3. Kouluta neuroverkko (käytä model.fit() funktiota)\n",
    "4. Vertaa neuroverkon ennustuksia testidataan (käytä model.evaluate() funktiota)\n",
    "5. Aja \"Tehtävän vastaukset\" solu"
   ]
  },
  {
   "cell_type": "code",
   "execution_count": 10,
   "metadata": {},
   "outputs": [
    {
     "name": "stdout",
     "output_type": "stream",
     "text": [
      "Epoch 1/20\n",
      "400/400 [==============================] - 0s 540us/step - loss: 0.6834 - accuracy: 0.5650\n",
      "Epoch 2/20\n",
      "400/400 [==============================] - 0s 541us/step - loss: 0.6566 - accuracy: 0.6600\n",
      "Epoch 3/20\n",
      "400/400 [==============================] - 0s 566us/step - loss: 0.6431 - accuracy: 0.6350\n",
      "Epoch 4/20\n",
      "400/400 [==============================] - 0s 510us/step - loss: 0.6325 - accuracy: 0.6350\n",
      "Epoch 5/20\n",
      "400/400 [==============================] - 0s 441us/step - loss: 0.6224 - accuracy: 0.6350\n",
      "Epoch 6/20\n",
      "400/400 [==============================] - 0s 456us/step - loss: 0.6127 - accuracy: 0.6375\n",
      "Epoch 7/20\n",
      "400/400 [==============================] - 0s 462us/step - loss: 0.6035 - accuracy: 0.6875\n",
      "Epoch 8/20\n",
      "400/400 [==============================] - 0s 469us/step - loss: 0.5950 - accuracy: 0.7125\n",
      "Epoch 9/20\n",
      "400/400 [==============================] - 0s 482us/step - loss: 0.5871 - accuracy: 0.7300\n",
      "Epoch 10/20\n",
      "400/400 [==============================] - 0s 477us/step - loss: 0.5800 - accuracy: 0.7500\n",
      "Epoch 11/20\n",
      "400/400 [==============================] - 0s 492us/step - loss: 0.5736 - accuracy: 0.7525\n",
      "Epoch 12/20\n",
      "400/400 [==============================] - 0s 475us/step - loss: 0.5678 - accuracy: 0.7500\n",
      "Epoch 13/20\n",
      "400/400 [==============================] - 0s 487us/step - loss: 0.5625 - accuracy: 0.7575\n",
      "Epoch 14/20\n",
      "400/400 [==============================] - 0s 494us/step - loss: 0.5578 - accuracy: 0.7525\n",
      "Epoch 15/20\n",
      "400/400 [==============================] - 0s 489us/step - loss: 0.5536 - accuracy: 0.7550\n",
      "Epoch 16/20\n",
      "400/400 [==============================] - 0s 475us/step - loss: 0.5498 - accuracy: 0.7600\n",
      "Epoch 17/20\n",
      "400/400 [==============================] - 0s 467us/step - loss: 0.5464 - accuracy: 0.7600\n",
      "Epoch 18/20\n",
      "400/400 [==============================] - 0s 472us/step - loss: 0.5433 - accuracy: 0.7575\n",
      "Epoch 19/20\n",
      "400/400 [==============================] - 0s 485us/step - loss: 0.5405 - accuracy: 0.7550\n",
      "Epoch 20/20\n",
      "400/400 [==============================] - 0s 492us/step - loss: 0.5380 - accuracy: 0.7550\n",
      "355/355 [==============================] - 0s 477us/step - loss: 0.5036 - accuracy: 0.7803\n",
      "[0.5036476759003922, 0.780281690140845]\n"
     ]
    }
   ],
   "source": [
    "# Tehtävän toteutus\n",
    "tf.keras.backend.set_floatx('float64') # poistaa TensorFlowin huomautukset datatyypeistä\n",
    "\n",
    "# Muutetaan from_tensor_slices - funktiolla  NumPy - taulukot TensorFlowin Dataset - luokkaan\n",
    "train_dataset = tf.data.Dataset.from_tensor_slices((train_x,train_y))\n",
    "test_dataset = tf.data.Dataset.from_tensor_slices((test_x,test_y))\n",
    "\n",
    "# laitetaan data \"köntteihin\" eli batcheihin. Mitä isompi batch on, sitä enemmän syöttödataa menee kerralla neuroverkon läpi, jolloin neuroverkon koulutus nopeutuu\n",
    "train_dataset,test_dataset  = train_dataset.batch(1), test_dataset.batch(1)\n",
    "\n",
    "# luodaan keras kutsun sisääntulokerroksen, piilotettu kerroksen ja ulostulokerroksen aktivaatiofunktiot.\n",
    "model = tf.keras.Sequential([\n",
    "    #tf.keras.layers.Dense(7,activation='relu'),\n",
    "    tf.keras.layers.Dense(1,activation='sigmoid'),\n",
    "    #tf.keras.layers.Dense(8,activation='relu'), # lisätään toiseen piiloitettuun kerrokseen relu - aktivaatiofunktio.\n",
    "    tf.keras.layers.Dense(2,activation='softmax') # ulostulokerros, jossa softmax - aktivaatiofunktio\n",
    "])\n",
    "\n",
    "# määritellään optimisaattori, virhefuntio ja koulutuksenaikainen seuranta\n",
    "model.compile(optimizer='adam', # Adam optimisaattori, joka alustetaan oletusparametreillä\n",
    "              loss='sparse_categorical_crossentropy', # Virhefunktio\n",
    "              metrics=['accuracy'] # Seurataan koulutuksen aikana, kuinka neuroverkon tarkkuus muuttuu\n",
    "             )\n",
    "\n",
    "# sovitetaan opetusdata\n",
    "model.fit(train_dataset, \n",
    "          epochs=20)\n",
    "\n",
    "# testataan mallia\n",
    "results = model.evaluate(test_dataset)\n",
    "print(results)"
   ]
  },
  {
   "cell_type": "code",
   "execution_count": 11,
   "metadata": {
    "tags": [
     "answers_1_3"
    ]
   },
   "outputs": [
    {
     "name": "stdout",
     "output_type": "stream",
     "text": [
      "Test Loss:0.5036476759003922 Test Accuracy:78.0281690140845%\n"
     ]
    }
   ],
   "source": [
    "# Tehtävän vastaukset. Huom! Älä muokkaa tätä solua, vaan aja se, kun olet suorittanut tehtävän. Sijoita results - muuttujaan funktion model.evaluate() tulos.\n",
    "# Muista määrittää model.compile() - funktioon seurattavaksi suureeksi metrics=['accuracy'], jotta näät, kuinka suuri osa neuroverkon ennustuksista on oikein.\n",
    "print(f\"Test Loss:{results[0]} Test Accuracy:{results[1]*100}%\")"
   ]
  },
  {
   "cell_type": "code",
   "execution_count": null,
   "metadata": {},
   "outputs": [],
   "source": []
  }
 ],
 "metadata": {
  "kernelspec": {
   "display_name": "Python [conda env:syvaoppiminen]",
   "language": "python",
   "name": "conda-env-syvaoppiminen-py"
  },
  "language_info": {
   "codemirror_mode": {
    "name": "ipython",
    "version": 3
   },
   "file_extension": ".py",
   "mimetype": "text/x-python",
   "name": "python",
   "nbconvert_exporter": "python",
   "pygments_lexer": "ipython3",
   "version": "3.8.5"
  }
 },
 "nbformat": 4,
 "nbformat_minor": 4
}
