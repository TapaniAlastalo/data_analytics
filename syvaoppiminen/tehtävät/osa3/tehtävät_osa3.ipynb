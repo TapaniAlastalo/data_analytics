{
 "cells": [
  {
   "cell_type": "markdown",
   "metadata": {},
   "source": [
    "# Tehtävä 1.\n",
    "## Aihe: Uutisotsikon klassifiointi - Clickbait vai ei?\n",
    "2,5 pistettä\n",
    "\n",
    "Datasetti:\n",
    "https://github.com/bhargaviparanjape/clickbait/tree/master/dataset\n",
    "\n",
    "1. Lataa clickbait ja ei-clickbait otsikot clickbait_data.txt ja non_clickbait_data.txt tiedostoista data - kansiosta\n",
    "2. Leimaa otsikot 0 tai 1 luokkaan (clickbait vai ei)\n",
    "2. Jaa data koulutus- ja testidataan (80% koulutusdataa 20% testidataa jako)\n",
    "4. Luo RNN - malli, joka ennustaa, onko otsikko clickbait vai ei\n",
    "5. Tulosta mallin tarkkuus evaluate - funktiolla\n",
    "6. Aja \"Tehtävän vastaukset\" solu\n",
    "\n",
    "Vinkkejä:\n",
    "* Käytä materiaaleista tuttua Tokenizer - luokkaa\n",
    "* Luo otsikoista samanpituiset sekvenssit"
   ]
  },
  {
   "cell_type": "code",
   "execution_count": null,
   "metadata": {},
   "outputs": [],
   "source": [
    "# Tehtävän toteutus"
   ]
  },
  {
   "cell_type": "code",
   "execution_count": null,
   "metadata": {
    "tags": [
     "answers_3_2"
    ]
   },
   "outputs": [],
   "source": [
    "# Tehtävän vastaukset. Huom! Älä muokkaa tätä solua, vaan aja se, kun olet suorittanut tehtävän. Sijoita results - muuttujaan funktion model.evaluate() tulos.\n",
    "# Muista määrittää model.compile() - funktioon seurattavaksi suureeksi metrics=['accuracy'], jotta näät, kuinka suuri osa neuroverkon ennustuksista on oikein.\n",
    "print(f\"Test Loss:{results[0]} Test Accuracy:{results[1]*100}%\")"
   ]
  },
  {
   "cell_type": "markdown",
   "metadata": {},
   "source": [
    "# Tehtävä 2.\n",
    "### Aihe: Aikasarjaennustaminen - Lämpötila ja sähkönkulutus\n",
    "2,5 pistettä\n",
    "\n",
    "Data - kansiossa tiedostoissa 'lampotila_2010.csv' ja 'sahkonkulutus_2010.csv' on vuoden 2010 tammikuun lämpötila Jyväskylän lentoasemalta ja koko Suomen sähkönkulutus. Tavoitteena on luoda neuroverkkomalli, joka ennustaa sähkönkulutuksen ja lämpötilan avulla tulevaa sähkönkulutusta.\n",
    "\n",
    "1. Ennusta 24 tunnin historiadatalla 24 tuntia eteenpäin\n",
    "2. Kouluta neuroverkko vuoden 2010 tammikuun datalla.\n",
    "3. Luo testidatasetti 'lampotila_2011.csv' ja 'sahkonkulutus_2011.csv' tiedostoista\n",
    "4. Ennusta mallilla vuoden 2011 tammikuun sähkönkulutusta. Piirrä oikeat arvot ja ennustetut arvot viivakaavioon.\n",
    "5. Aja \"Tehtävän vastaukset\" solu\n",
    "\n",
    "Vinkkejä:\n",
    "* Muuta aikasarja sekvenssimuotoon käyttäen multivariate_data - funktiota materiaaleista.\n",
    "    * Mitkä ovat muuttujia, joiden avulla ennustetaan, ja mitkä ovat ennustettavia arvoja?\n",
    "* Dataa on vähän, joten ennustustulokset saattavat olla huonoja\n",
    "    * Tärkeintä on, että idea on oikein\n",
    "    * Käytä Dropout - kerroksia ja vaihda LSTM - kerroksissa solujen määrää"
   ]
  },
  {
   "cell_type": "code",
   "execution_count": null,
   "metadata": {},
   "outputs": [],
   "source": [
    "# Tehtävän toteutus"
   ]
  },
  {
   "cell_type": "code",
   "execution_count": null,
   "metadata": {
    "tags": [
     "answers_3_3"
    ]
   },
   "outputs": [],
   "source": [
    "# Tehtävän vastaukset.  Huom! Älä muokkaa tätä solua, vaan aja se, kun olet suorittanut tehtävän. \n",
    "# Luo tarvittavat osat viivakaavioon fig - muuttujaan matplotlib - kirjastoa käyttäen. Tuloksena pitäisi olla viivakaavio, jossa on piirrettynä oikeat arvot ja neuroverkon ennustukset.\n",
    "fig"
   ]
  },
  {
   "cell_type": "markdown",
   "metadata": {},
   "source": [
    "# Tehtävä 3.\n",
    "### Aihe: Autoenkooderit - Poikkeaman tunnistus \n",
    "2,5 pistettä\n",
    "\n",
    "Credit card fraud - datasetissä on 28 anonymisoitua muuttujaa, jonka perusteella voi arvioida, onko luottokorttitapahtuma aito vai huijaus, joka on myös datasetissä jokaiselle tapahtumalle luokiteltu.\n",
    "\n",
    "1. Lataa luottokorttihuijaus datasetti Kagglesta https://www.kaggle.com/mlg-ulb/creditcardfraud tai jos sinulla ei ole Kaggle tunnusta: https://student.labranet.jamk.fi/~korpjo/files/credit-card-fraud-detection.zip\n",
    "2. Jaa datasetti koulutus- ja testidatasettiin\n",
    "3. Luo autoenkooderimalli, jossa sisääntulevasta luottokorttitapahtumatiedoista tiivistetään pienin mahdollinen esitys, ja esitys luodaan takaisin luottokorttitapahtumatiedoksi\n",
    "4. Määritä koulutusdatan avulla raja-arvo virheelle, minkä ylittävät tapahtumat luokitellaan luottokorttihuijauksiksi\n",
    "5. Tutki numeerisesti tai visuaalisesti, kuinka hyvin raja-arvolla tunnistetaan poikkeamat testidatasetistä\n",
    "\n",
    "Vinkkejä:\n",
    "* Datasetissä on erittäin vähän poikkeamia oikeisiin tapahtumiin verrattuna. Käytä train_test_split funktion 'stratify' parametriä, jotta saat koulutus- ja testidatasetteihin oikean suhteen oikeita ja poikkeavia tapahtumia.\n",
    "* Viimeisessä kohdassa voit joko visualisoida poikkeamia Autoenkooderi - materiaalien tapaan kuvaajalla tai luomalla [sekaannusmatriisin](https://scikit-learn.org/stable/modules/generated/sklearn.metrics.confusion_matrix.html) autoenkooderin ennusteista."
   ]
  },
  {
   "cell_type": "code",
   "execution_count": 10,
   "metadata": {},
   "outputs": [
    {
     "name": "stdout",
     "output_type": "stream",
     "text": [
      "Epoch 1/20\n",
      "49841/49841 [==============================] - 21s 425us/step - loss: 0.0016\n",
      "Epoch 2/20\n",
      "49841/49841 [==============================] - 21s 429us/step - loss: 0.0013\n",
      "Epoch 3/20\n",
      "49841/49841 [==============================] - 22s 444us/step - loss: 0.0013\n",
      "Epoch 4/20\n",
      "49841/49841 [==============================] - 22s 439us/step - loss: 0.0013\n",
      "Epoch 5/20\n",
      "49841/49841 [==============================] - 22s 447us/step - loss: 0.0013\n",
      "Epoch 6/20\n",
      "49841/49841 [==============================] - 22s 434us/step - loss: 0.0013\n",
      "Epoch 7/20\n",
      "49841/49841 [==============================] - 22s 434us/step - loss: 0.0013\n",
      "Epoch 8/20\n",
      "49841/49841 [==============================] - 22s 437us/step - loss: 0.0013\n",
      "Epoch 9/20\n",
      "49841/49841 [==============================] - 22s 445us/step - loss: 0.0013\n",
      "Epoch 10/20\n",
      "49841/49841 [==============================] - 22s 437us/step - loss: 0.0013\n",
      "Epoch 11/20\n",
      "49841/49841 [==============================] - 21s 425us/step - loss: 0.0013\n",
      "Epoch 12/20\n",
      "49841/49841 [==============================] - 22s 440us/step - loss: 0.0013\n",
      "Epoch 13/20\n",
      "49841/49841 [==============================] - 21s 425us/step - loss: 0.0013\n",
      "Epoch 14/20\n",
      "49841/49841 [==============================] - 22s 435us/step - loss: 0.0013\n",
      "Epoch 15/20\n",
      "49841/49841 [==============================] - 22s 442us/step - loss: 0.0013\n",
      "Epoch 16/20\n",
      "49841/49841 [==============================] - 22s 437us/step - loss: 0.0013\n",
      "Epoch 17/20\n",
      "49841/49841 [==============================] - 21s 425us/step - loss: 0.0013\n",
      "Epoch 18/20\n",
      "49841/49841 [==============================] - 21s 427us/step - loss: 0.0013\n",
      "Epoch 19/20\n",
      "49841/49841 [==============================] - 21s 427us/step - loss: 0.0013\n",
      "Epoch 20/20\n",
      "49841/49841 [==============================] - 22s 434us/step - loss: 0.00130s \n",
      "0.0012451794094533088\n",
      "0.001244608736953111\n"
     ]
    }
   ],
   "source": [
    "# Tehtävän toteutus\n",
    "# Lataa luottokorttihuijaus datasetti\n",
    "import pandas as pd\n",
    "df = pd.read_csv('c:/data/creditcard.csv')\n",
    "#print(df)\n",
    "#df = df.drop(columns=['Time'], axis=1)\n",
    "#clss = df['Class']\n",
    "df = df.drop(columns=['Time','Amount','Class'], axis=1)\n",
    "\n",
    "# Jaa datasetti koulutus- ja testidatasettiin\n",
    "from sklearn.model_selection import train_test_split\n",
    "train, test = train_test_split(df, test_size=0.3)#, stratify=clss)\n",
    "\n",
    "# skaalataan arvot\n",
    "from sklearn.preprocessing import MinMaxScaler\n",
    "scaler = MinMaxScaler()\n",
    "train = scaler.fit_transform(train)\n",
    "test = scaler.transform(test)\n",
    "\n",
    "import tensorflow as tf\n",
    "# Luo autoenkooderimalli, jossa sisääntulevasta luottokorttitapahtumatiedoista tiivistetään pienin mahdollinen esitys,\n",
    "features = train.shape[1] # Kuinka monta saraketta datasetissä\n",
    "input_layer = tf.keras.Input(shape=(features,))\n",
    "encoder = tf.keras.layers.Dense(7,activation='relu')(input_layer) # Enkooderi, antaa ulos pienemmän esityksen syötteestä, eli vektori z aiemmassa kuvatussa pullonkaulassa\n",
    "decoder = tf.keras.layers.Dense(features, activation='sigmoid')(encoder) # Dekooderi\n",
    "autoencoder = tf.keras.Model(inputs=input_layer,\n",
    "                             outputs=decoder)\n",
    "autoencoder.compile(optimizer=tf.keras.optimizers.Adam(lr=0.001),loss='mean_squared_error')\n",
    "autoencoder.fit(train, train,epochs=20,batch_size=4)\n",
    "\n",
    "import numpy as np\n",
    "test_predictions = autoencoder.predict(test[0:10])\n",
    "mse_test = np.mean((test[0:10] - test_predictions)**2)\n",
    "print(mse_test)\n",
    "\n",
    "train_predictions = autoencoder.predict(train[0:10])\n",
    "mse_train = np.mean((train[0:10] - train_predictions)**2)\n",
    "print(mse_train)\n"
   ]
  },
  {
   "cell_type": "code",
   "execution_count": 9,
   "metadata": {},
   "outputs": [
    {
     "data": {
      "text/plain": [
       "<matplotlib.collections.PathCollection at 0x1de30563af0>"
      ]
     },
     "execution_count": 9,
     "metadata": {},
     "output_type": "execute_result"
    },
    {
     "data": {
      "image/png": "[encoded data removed]",
      "text/plain": [
       "<Figure size 864x432 with 1 Axes>"
      ]
     },
     "metadata": {
      "needs_background": "light"
     },
     "output_type": "display_data"
    }
   ],
   "source": [
    "# Tehtävän vastaukset. Käytä visualisaatiota tai osoita numeerisesti, kuinka monta poikkeamaa neuroverkkomalli huomasi.\n",
    "import matplotlib.pyplot as plt\n",
    "test_predictions = autoencoder.predict(test)\n",
    "mse_test = np.mean((test - test_predictions)**2,axis=1)\n",
    "trained_predictions = autoencoder.predict(train)\n",
    "mse_trained = np.mean((train - trained_predictions)**2,axis=1)\n",
    "predictions_mse = np.concatenate([mse_test,mse_trained]) # Yhdistetään ennustukset yhteen taulukkoon kuvaajaa varten\n",
    "fig, ax = plt.subplots(figsize=(12,6))\n",
    "ax.scatter(range(len(predictions_mse)),predictions_mse)\n",
    "ax.scatter(range(len(mse_test)),mse_test)\n",
    "\n",
    "# 1-4 poikkeamaa / tai riippuu, miten tulkitaan ja mihin raja vedetään"
   ]
  },
  {
   "cell_type": "markdown",
   "metadata": {},
   "source": [
    "# Tehtävä 4.\n",
    "### Aihe: Autoenkooderit - Kohinan poisto kuvasta\n",
    "2,5 pistettä\n",
    "\n",
    "Alla on luotu MNIST datasetistä \"korruptoitunut\" versio, jossa kuviin on lisätty kohinaa. Luo autoenkooderi, jolle syötetään suttuinen numero ja joka luo kuvan uudestaan puhtaana numerona.\n",
    "\n",
    "Todista autoenkooderin toiminta:\n",
    "1. Piirrä Matplotlibillä testidatasetistä suttuinen kuva (esim. test_X_noisy[10])\n",
    "2. Syötä suttuinen kuva autoenkooderille.\n",
    "3. Piirrä autoenkooderin ulostulona antama kuva.\n",
    "4. Aja \"Tehtävän vastaukset\" solu\n",
    "\n",
    "Vinkkejä:\n",
    "* Mieti, mikä muuttuja menee syötteenä autoenkooderiin ja mikä muuttuja on haluttu lopputulos?\n",
    "    * Suttuinen kuva -> autoenkooderi -> Selkeä kuva\n",
    "* Piirrät kuvat käyttäen matplotlib - kirjastoa\n",
    "    * Autoenkooderi materiaaleissa esimerkki"
   ]
  },
  {
   "cell_type": "code",
   "execution_count": 1,
   "metadata": {},
   "outputs": [],
   "source": [
    "# Ladataan tarvittavat kirjastot\n",
    "import tensorflow as tf\n",
    "import numpy as np\n",
    "# Puhdas MNIST datasetti, josta otetaan kymmenesosa kuvista datasettiin\n",
    "(train_X, _), (test_X, _) = tf.keras.datasets.mnist.load_data()\n",
    "train_X, test_X = train_X[0:len(train_X) // 10], test_X[0:len(test_X) // 10]\n",
    "train_X, test_X = train_X / 255.0, test_X / 255.0\n",
    "train_X, test_X = train_X.reshape((train_X.shape[0],28,28,1)), test_X.reshape((test_X.shape[0],28,28,1))\n",
    "\n",
    "# Luodaan suttuisia kuvia MNIST datasetistä laittamalla kuviin kohinaa\n",
    "noise = np.random.normal(loc=0.5, scale=0.75, size=train_X.shape)\n",
    "train_X_noisy = train_X + noise\n",
    "noise = np.random.normal(loc=0.5, scale=0.75, size=test_X.shape)\n",
    "test_X_noisy = test_X + noise\n",
    "train_X_noisy = np.clip(train_X_noisy, 0., 1.) \n",
    "test_X_noisy = np.clip(test_X_noisy, 0., 1.)"
   ]
  },
  {
   "cell_type": "code",
   "execution_count": 2,
   "metadata": {},
   "outputs": [
    {
     "name": "stdout",
     "output_type": "stream",
     "text": [
      "Epoch 1/5\n",
      "375/375 [==============================] - 4s 11ms/step - loss: 0.0939\n",
      "Epoch 2/5\n",
      "375/375 [==============================] - 4s 11ms/step - loss: 0.0677\n",
      "Epoch 3/5\n",
      "375/375 [==============================] - 4s 11ms/step - loss: 0.0673\n",
      "Epoch 4/5\n",
      "375/375 [==============================] - 4s 11ms/step - loss: 0.0650\n",
      "Epoch 5/5\n",
      "375/375 [==============================] - 4s 11ms/step - loss: 0.0516\n"
     ]
    },
    {
     "data": {
      "image/png": "[encoded data removed]",
      "text/plain": [
       "<Figure size 432x288 with 1 Axes>"
      ]
     },
     "metadata": {
      "needs_background": "light"
     },
     "output_type": "display_data"
    }
   ],
   "source": [
    "# Tehtävän toteutus\n",
    "# Luodaan enkooderi\n",
    "enc_input = tf.keras.Input(shape=(28,28,1))\n",
    "enc_conv1 = tf.keras.layers.Conv2D(filters=32,kernel_size=3,strides=(2,2),activation='relu')(enc_input)\n",
    "enc_conv2 = tf.keras.layers.Conv2D(filters=64,kernel_size=3,strides=(2,2),activation='relu')(enc_conv1)\n",
    "# luodaan tiivistetty luonnos kuvasta Flatten() ja Dense kerroksella,\n",
    "enc_flatten = tf.keras.layers.Flatten()(enc_conv2)\n",
    "# Viimeisessä Dense kerroksessa luodaan ennuste kuvasta, laitetaan aktivaatiofunktioksi 'linear'\n",
    "enc_out = tf.keras.layers.Dense(64,activation='linear')(enc_flatten)\n",
    "encoder = tf.keras.Model(inputs=enc_input,\n",
    "                         outputs=enc_out,\n",
    "                         name='Encoder')\n",
    "#encoder.summary()\n",
    "\n",
    "# Luodaan dekooderi. Dekooderin tehtävä on luoda tiivistetty enkooderin tieto takaisin kuvaksi.\n",
    "dec_input = tf.keras.Input(shape=(64,))\n",
    "dec_dense1 = tf.keras.layers.Dense(7*7*64,activation='relu')(dec_input)\n",
    "dec_reshape = tf.keras.layers.Reshape(target_shape=(7,7,64))(dec_dense1)\n",
    "# Conv2DTranspose kerroksella pienempi sisääntulo muutetaan suuremmaksi sisääntuloksi (dekonvoluutio)\n",
    "dec_convt1 = tf.keras.layers.Conv2DTranspose(filters=64,kernel_size=3,strides=(2,2),padding='same',activation='relu')(dec_reshape)\n",
    "dec_convt2 = tf.keras.layers.Conv2DTranspose(filters=32,kernel_size=3,strides=(2,2),padding='same',activation='relu')(dec_convt1)\n",
    "dec_out = tf.keras.layers.Conv2DTranspose(filters=1,kernel_size=3,strides=(1,1),padding='same',activation=\"sigmoid\")(dec_convt2)\n",
    "decoder = tf.keras.Model(inputs=dec_input,\n",
    "                         outputs=dec_out,\n",
    "                         name='Decoder')\n",
    "#decoder.summary()\n",
    "\n",
    "# Yhdistetään luodut enkooderi ja dekooderi mallit autoenkooderilla. \n",
    "autoencoder_input = tf.keras.Input(shape=(28,28,1),name='Autoencoder_input')\n",
    "encoder_out = encoder(autoencoder_input)\n",
    "decoder_out = decoder(encoder_out)\n",
    "autoencoder = tf.keras.Model(inputs=autoencoder_input, \n",
    "                             outputs=decoder_out,\n",
    "                             name='Autoencoder')\n",
    "#autoencoder.summary()\n",
    "\n",
    "# Autoenkooderille annetaan ominaisuuksina train_X_noisy ja ennustettavana train_X.\n",
    "autoencoder.compile(optimizer = tf.keras.optimizers.Adam(lr=0.0001),\n",
    "                    loss = 'mean_squared_error')\n",
    "autoencoder.fit(train_X_noisy,train_X, epochs=5, batch_size=16)\n",
    "\n",
    "# Todista autoenkooderin toiminta:\n",
    "# Piirrä Matplotlibillä testidatasetistä suttuinen kuva (esim. test_X_noisy[10])\n",
    "# Syötä suttuinen kuva autoenkooderille.\n",
    "# Piirrä autoenkooderin ulostulona antama kuva.\n",
    "\n",
    "# Piirretään testikuva\n",
    "import matplotlib.pyplot as plt\n",
    "test_img = test_X_noisy[10]\n",
    "test_img = test_img.reshape(test_img.shape[0],test_img.shape[1])\n",
    "plt.imshow(test_img)\n",
    "plt.show()\n",
    "\n",
    "# Luodaan aikaisemmasta testikuvasta autoenkooderilla kuva uudelleen.\n",
    "test_img = test_img.reshape(1,28,28,1)\n",
    "prediction = autoencoder.predict(test_img)\n",
    "prediction = prediction.reshape(prediction.shape[1],prediction.shape[2])\n",
    "#plt.imshow(prediction)\n",
    "#plt.show()\n",
    "cleaned_img = prediction"
   ]
  },
  {
   "cell_type": "code",
   "execution_count": 3,
   "metadata": {
    "tags": [
     "answers_3_1"
    ]
   },
   "outputs": [
    {
     "data": {
      "text/plain": [
       "<matplotlib.image.AxesImage at 0x1de33314b20>"
      ]
     },
     "execution_count": 3,
     "metadata": {},
     "output_type": "execute_result"
    },
    {
     "data": {
      "image/png": "[encoded data removed]",
      "text/plain": [
       "<Figure size 432x288 with 1 Axes>"
      ]
     },
     "metadata": {
      "needs_background": "light"
     },
     "output_type": "display_data"
    }
   ],
   "source": [
    "# Tehtävän vastaukset.  Huom! Älä muokkaa tätä solua, vaan aja se, kun olet suorittanut tehtävän. \n",
    "# Syötä cleaned_img - muuttujaan autoenkooderin ulostulo. Muista muokata sitä ennen ulostulo takaisin 28x28 matriisiksi, jotta sen voi syöttää plt.imshow() funktiolle.\n",
    "plt.imshow(cleaned_img)"
   ]
  },
  {
   "cell_type": "markdown",
   "metadata": {},
   "source": [
    "# Extra Tehtävä\n",
    "### Aihe: Twiitin klassifiointi - Positiivinen vai negatiivinen?\n",
    "2,5 pistettä\n",
    "\n",
    "Tämä on ylimääräinen tehtävä, jonka avulla voit saada muutaman lisäpisteen.\n",
    "\n",
    "Lataa datasetti osoitteesta https://student.labranet.jamk.fi/~korpjo/files/Sentiment-Analysis-Dataset.zip. Datasetissä on twiittejä, jotka on leimattu positiiviseksi (1) tai negatiiviseksi (0) Sentiment - sarakkeessa.\n",
    "\n",
    "Twiiteissä on paljon turhaa tavaraa, kuten linkkejä ja viittauksia muihin käyttäjiin @ - merkillä, jotka eivät auta tai haittaavat neuroverkkoja klassifioimaan twiittejä. Muokkaa datasettiä ja luo neuroverkkomalli, joka ennustaa, onko twiitti positiivinen vai negatiivinen. \n",
    "\n",
    "Jaa data koulutus- ja testidataan (80% koulutusdataa 20% testidataa jako) ja mittaa kuinka tarkka mallisi on testidatan avulla.\n",
    "\n",
    "Vinkkejä:\n",
    "* Tekstin esikäsittelyyn voi käyttää esim. TensorFlowin Tokenizer - luokkaa: https://www.tensorflow.org/api_docs/python/tf/keras/preprocessing/text/Tokenizer\n",
    "* Viittauksia ja linkkejä ei välttämättä tarvitse poistaa, vaan ne voi korvata yleisesti jollakin merkkijonolla. Esim. \"http://iltalehti.fi\" -> \"link_to_website\" tai \"@elonmusk\" -> \"reference_to_user\""
   ]
  },
  {
   "cell_type": "code",
   "execution_count": null,
   "metadata": {},
   "outputs": [],
   "source": [
    "# Tehtävän toteutus"
   ]
  }
 ],
 "metadata": {
  "kernelspec": {
   "display_name": "Python 3",
   "language": "python",
   "name": "python3"
  },
  "language_info": {
   "codemirror_mode": {
    "name": "ipython",
    "version": 3
   },
   "file_extension": ".py",
   "mimetype": "text/x-python",
   "name": "python",
   "nbconvert_exporter": "python",
   "pygments_lexer": "ipython3",
   "version": "3.8.5"
  }
 },
 "nbformat": 4,
 "nbformat_minor": 4
}
