{
 "cells": [
  {
   "cell_type": "markdown",
   "metadata": {},
   "source": [
    "# Analyyttinen Geometria - Tehtävät kerta 4\n",
    "\n",
    "**Opiskelijan nimi: Tapani Alastalo**\n"
   ]
  },
  {
   "cell_type": "markdown",
   "metadata": {},
   "source": [
    "## Tehtävä 3\n",
    "\n",
    "\n",
    "3. Tiedostossa http://www.pekkavaris.net/pisteet1.txt on annettu 137 pisteen murtoviivan koordinaatit. Laske seuraavien pisteiden lyhin etäisyys murtoviivasta: a) (−412,  −1832)   b)  (−3012, −1678)  c) (−3500, −3450)  \n",
    "Voit tehdä laskennan Excelillä, sitä varten pisteet ovat valmiina myös tiedostossa http://www.pekkavaris.net/pisteet1.xlsx \n",
    " Laske jokaiselle janalle pistetuloon tarvittavat x0-jx1, y0-jy1, jx2-jx1 ja jy2-jy1 (vaikka eri sarakkeisiin). \n",
    " Laske näiden avulla kerroin t ja ”pakota” t välille [0,1] IF- tai MIN/MAX funktioilla. \n",
    " Laske t:n avulla kyseisen janan lähin piste ja tämän etäisyys (x0,y0):sta. \n",
    " Laske MIN-funktiolla etäisyyksistä pienin. \n",
    " (muista käyttää kaavojen kopiointia)  \n",
    "Toki voit tehdä laskennan esim. javascriptillä tai jollain muulla ohjelmointikielellä. (palauta lähdekoodi/Excel-tiedosto palautuskansioon) \n",
    " \n",
    "Vastauksia:    3. a) 264,17…  b) 1017,91…   c)  38,443… \n",
    "\n",
    "\n"
   ]
  },
  {
   "cell_type": "code",
   "execution_count": 2,
   "metadata": {},
   "outputs": [
    {
     "name": "stdout",
     "output_type": "stream",
     "text": [
      "       x1    y1    x2    y2  a-etäisyys  b-etäisyys  c-etäisyys\n",
      "0       0     0     0    -3    1874.829    3446.414    4912.414\n",
      "1       0    -3    -2   -36    1842.204    3428.741    4887.883\n",
      "2      -2   -36   -10  -108    1770.249    3387.758    4832.087\n",
      "3     -10  -108   -54  -200    1670.805    3306.697    4736.815\n",
      "4     -54  -200  -138  -300    1556.310    3187.281    4607.119\n",
      "..    ...   ...   ...   ...         ...         ...         ...\n",
      "131 -1124 -4567 -1062 -4647    2826.158    3451.212    2625.465\n",
      "132 -1062 -4647  -994 -4744    2889.070    3552.107    2715.999\n",
      "133  -994 -4744  -930 -4828    2969.591    3670.515    2820.367\n",
      "134  -930 -4828  -966 -4889    3040.451    3775.874    2914.083\n",
      "135  -966 -4889 -1065 -4934    3106.793    3793.724    2851.575\n",
      "\n",
      "[136 rows x 7 columns]\n",
      "264.178\n",
      "1017.914\n",
      "38.444\n"
     ]
    }
   ],
   "source": [
    "import numpy as np\n",
    "import pandas as pd\n",
    "import math\n",
    "\n",
    "def dotDistanceFromLine(x, x0, y0):\n",
    "    jx1 = x['x1']\n",
    "    jy1 = x['y1']\n",
    "    jx2 = x['x2']\n",
    "    jy2 = x['y2']\n",
    "    Ax = x0 - jx1 #vektorin A x-komponentti\n",
    "    Ay = y0 - jy1 #vektorin A y-komponentti\n",
    "    Bx = jx2 - jx1 #vektorin B x-komponentti\n",
    "    By = jy2 - jy1 #vektorin B y-komponentti\n",
    "    t = (Ax * Bx + Ay * By)/ (Bx * Bx + By * By) #pistetulojen suhde\n",
    "    if (t < 0):\n",
    "        t = 0 #jos piste ei osu janalle\n",
    "    elif (t > 1):\n",
    "        t = 1 #jos piste ei osu janalle\n",
    "    lx = jx1 + t * Bx #lähimmän pisteen x\n",
    "    ly = jy1 + t * By #lähimmän pisteen y\n",
    "    dx = x0 - lx #pisteen ja lähimmän pisteen delta-x\n",
    "    dy = y0 - ly #pisteen ja lähimmän pisteen delta-y\n",
    "    return math.sqrt(dx * dx + dy * dy) #neliöjuuri dx^2+dy^2 -lausekkeesta\n",
    "\n",
    "df = pd.read_excel('http://www.pekkavaris.net/pisteet1.xlsx', sheet_name='Sheet1', names=['x1', 'y1'], skiprows=6)\n",
    "\n",
    "df['x2'] = df['x1'].shift(-1).fillna(0).astype(int)\n",
    "df['y2'] = df['y1'].shift(-1).fillna(0).astype(int)\n",
    "df.drop([136], inplace=True)\n",
    "\n",
    "a = {'x0': -412, 'y0': -1832}\n",
    "b = {'x0': -3012, 'y0': -1678}\n",
    "c = {'x0': -3500, 'y0': -3450}\n",
    "\n",
    "df['a-etäisyys'] = df.apply(dotDistanceFromLine, x0 = a['x0'], y0 = a['y0'], axis=1).round(3)\n",
    "df['b-etäisyys'] = df.apply(dotDistanceFromLine, x0 = b['x0'], y0 = b['y0'], axis=1).round(3)\n",
    "df['c-etäisyys'] = df.apply(dotDistanceFromLine, x0 = c['x0'], y0 = c['y0'], axis=1).round(3)\n",
    "\n",
    "print(df)\n",
    "\n",
    "aMin = df['a-etäisyys'].min()\n",
    "print(aMin)\n",
    "bMin = df['b-etäisyys'].min()\n",
    "print(bMin)\n",
    "cMin = df['c-etäisyys'].min()\n",
    "print(cMin)\n"
   ]
  },
  {
   "cell_type": "code",
   "execution_count": null,
   "metadata": {},
   "outputs": [],
   "source": []
  }
 ],
 "metadata": {
  "kernelspec": {
   "display_name": "Python 3",
   "language": "python",
   "name": "python3"
  },
  "language_info": {
   "codemirror_mode": {
    "name": "ipython",
    "version": 3
   },
   "file_extension": ".py",
   "mimetype": "text/x-python",
   "name": "python",
   "nbconvert_exporter": "python",
   "pygments_lexer": "ipython3",
   "version": "3.7.4"
  }
 },
 "nbformat": 4,
 "nbformat_minor": 2
}
