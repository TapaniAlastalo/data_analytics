{
 "cells": [
  {
   "cell_type": "markdown",
   "metadata": {
    "collapsed": true
   },
   "source": [
    "## Datan analysointi K2020_2 - Tehtävät kerta 7\n",
    "\n",
    "Palauta Optiman palautuslaatikkoon viimeistään su 12.4. Kirjoita palautuslaatikon kommenttikenttään, mitkä tehtävät olet tehnyt kokonaan/osittain.\n",
    "\n",
    "Opiskelijan nimi:"
   ]
  },
  {
   "cell_type": "markdown",
   "metadata": {},
   "source": [
    "# 1. Asunnon hinta\n",
    "Tiedostossa https://student.labranet.jamk.fi/~varpe/datananal2k2020/kerta7/teht1.txt on (kuvitteellisia) asuntojen myyntihintoja ja niiden tietoja (pinta-ala, makuuhuoneiden lukumäärä ja saunan olemassaolo).\n",
    "\n",
    "Tee **lineaarien regressiomalli**, jossa selittävinä muuttujina on pinta-ala, makuuhuoneiden lukumäärä ja saunan olemassaolo ja selitettävänä muuttujana myyntihinta. \n",
    "\n",
    "(Joudut muuttamaan sauna-kentän numeeriseksi)\n",
    "\n",
    "Laske mallille selityskerroin.\n",
    "\n",
    "Kokeile sitten mitä saat selityskertoimiksi, jos käytät selittävinä muuttuujina vain kahta kolmesta mahdollisesta.\n",
    "\n",
    "Piirrä parhaasta mallista kaavio ennustetuista ja havaituista arvoista.\n",
    "\n",
    "Tässä ei jaeta dataa opetus- ja testidataan.\n"
   ]
  },
  {
   "cell_type": "code",
   "execution_count": 2,
   "metadata": {},
   "outputs": [
    {
     "name": "stdout",
     "output_type": "stream",
     "text": [
      "Selityskerroin:  0.7442335552970589\n",
      "Selityskerroin2:  0.7335822686603743\n",
      "Selityskerroin3:  0.742057921659329\n",
      "Selityskerroin4:  0.25426882030277387\n"
     ]
    },
    {
     "data": {
      "image/png": "[encoded data removed]",
      "text/plain": [
       "<Figure size 432x288 with 1 Axes>"
      ]
     },
     "metadata": {
      "needs_background": "light"
     },
     "output_type": "display_data"
    }
   ],
   "source": [
    "import pandas as pd\n",
    "import matplotlib.pyplot as plt\n",
    "from sklearn.linear_model import LinearRegression\n",
    "\n",
    "df = pd.read_csv('https://student.labranet.jamk.fi/~varpe/datananal2k2020/kerta7/teht1.txt', sep=\",\", decimal='.')\n",
    "\n",
    "df['s'] = 0\n",
    "df.loc[(df['sauna']!='ei'), 's'] = 1\n",
    "df['sauna']=df['s']\n",
    "del df['s']\n",
    "#print(df)\n",
    "\n",
    "x = df[['ala','makuuhuoneita','sauna']]\n",
    "y = df['hinta']\n",
    "\n",
    "model = LinearRegression()\n",
    "model.fit(x,y)\n",
    "print(\"Selityskerroin: \", model.score(x,y))\n",
    "\n",
    "x2 = df[['ala','makuuhuoneita']]\n",
    "model.fit(x2,y)\n",
    "print(\"Selityskerroin2: \", model.score(x2,y))\n",
    "x3 = df[['ala','sauna']]\n",
    "model.fit(x3,y)\n",
    "print(\"Selityskerroin3: \", model.score(x3,y))\n",
    "x4 = df[['makuuhuoneita','sauna']]\n",
    "model.fit(x4,y)\n",
    "print(\"Selityskerroin4: \", model.score(x4,y))\n",
    "\n",
    "#---- PARAS----\n",
    "model.fit(x,y)\n",
    "\n",
    "forecast = model.predict(x)\n",
    "plt.scatter(y, forecast)\n",
    "plt.xlabel('Havaittu')\n",
    "plt.ylabel('Ennustettu')\n",
    "plt.show()"
   ]
  },
  {
   "cell_type": "markdown",
   "metadata": {},
   "source": [
    "## 2. Ostaako\n",
    "\n",
    "Tiedostossa https://student.labranet.jamk.fi/~varpe/datananal2k2020/kerta7/teht2.txt on dataa henkilön tuloista, sukupuolesta ja siviilisäädystä. Lisäksi on tieto onko henkilö ostanut tuotteen vai ei.\n",
    "\n",
    "Tee **päätöspuu** asetuksella max_depth=4, joka yrittää selittää ostamista muiden kenttien avulla. Testaa sitten mallia ja  tulosta `score` ja `confusion_matrix`.\n",
    "\n",
    "Joudut muuttamaan joitain kenttiä numeerisiksi.\n",
    "\n",
    "\n",
    "Tee päätöspuusta vuokaavio (dot-tiedosto), visualisoi se ja päättele manuaalisesti sen avulla miten puu luokittelisi seuraavat tiedot:\n",
    "* tulot 60000, naimisissa, nainen\n",
    "* tulot 30000, ei-naimisissa, mies\n",
    "\n",
    "Kirjoita vastaukseen kommenttina päättelyketjut.\n",
    "\n",
    "Tässä ei jaeta dataa opetus- ja testidataan."
   ]
  },
  {
   "cell_type": "code",
   "execution_count": 9,
   "metadata": {},
   "outputs": [
    {
     "name": "stdout",
     "output_type": "stream",
     "text": [
      "     ostaa  tulot  sukupuoli  naimisissa\n",
      "0        0  24000          0           0\n",
      "1        1  75000          0           1\n",
      "2        0  46000          0           1\n",
      "3        1  70000          1           1\n",
      "4        0  43000          0           0\n",
      "..     ...    ...        ...         ...\n",
      "668      0  27000          0           0\n",
      "669      0   3000          0           0\n",
      "670      1  75000          0           1\n",
      "671      1  51000          0           1\n",
      "672      0  11000          1           1\n",
      "\n",
      "[673 rows x 4 columns]\n",
      "Accuracy: 0.9390787518573551\n",
      "[[522  26]\n",
      " [ 15 110]]\n"
     ]
    }
   ],
   "source": [
    "import pandas as pd\n",
    "import matplotlib.pyplot as plt\n",
    "from sklearn.tree import DecisionTreeClassifier\n",
    "from sklearn.metrics import confusion_matrix\n",
    "from sklearn.tree import export_graphviz\n",
    "\n",
    "df = pd.read_csv('https://student.labranet.jamk.fi/~varpe/datananal2k2020/kerta7/teht2.txt', sep=\",\", decimal='.')\n",
    "df['sukupuoli']=df['sukupuoli'].map({'nainen': 0, 'mies': 1})\n",
    "print(df)\n",
    "\n",
    "x = df[['tulot','naimisissa','sukupuoli']]\n",
    "y = df['ostaa']\n",
    "\n",
    "# luodaan malli-olio\n",
    "#model = DecisionTreeClassifier(criterion='entropy', max_depth=3)\n",
    "model = DecisionTreeClassifier(max_depth=3)\n",
    "# sovitetetaan, eli generoidaan päätöspuu\n",
    "model.fit(x,y)\n",
    "\n",
    "# ennustetaan tulokset\n",
    "y_pred = model.predict(x)\n",
    "# katsotaan tarkkuus\n",
    "print(\"Accuracy:\", model.score(x,y))\n",
    "# Confusion Matrix\n",
    "print(confusion_matrix(y, y_pred))\n",
    "\n",
    "\n",
    "export_graphviz(decision_tree=model, out_file=\"tree_ostaako.dot\",\n",
    "                feature_names=x.columns, class_names=True, filled=True, rounded=True)"
   ]
  },
  {
   "cell_type": "markdown",
   "metadata": {},
   "source": [
    "#### Päätöspuu (decision tree)\n",
    "![puu](https://student.labranet.jamk.fi/~M1475/public/dataanalytics/t2puu.png)\n",
    "\n",
    "##### tulot 60000, naimisissa, nainen\n",
    "- Onko tulot <= 57500? -> False\n",
    "- Onko tulot <= 65500? -> True\n",
    "- Onko ei-naimisissa? -> False\n",
    "-> Ostaa\n",
    "\n",
    "##### tulot 30000, ei-naimisissa, mies\n",
    "- Onko tulot <= 57500? -> True\n",
    "- Onko tulot <= 46500? -> True\n",
    "- Onko tulot <= 34500? -> True\n",
    "-> Ei osta"
   ]
  },
  {
   "cell_type": "markdown",
   "metadata": {},
   "source": [
    "## 3. Jyväskylän kämpät\n",
    "Tiedostossa https://student.labranet.jamk.fi/~varpe/datananal2k2020/kerta7/teht5.txt on tietoja Jyväskylän toteutuneista kerrostaloasuntokaupoista  12 kk ajalta.\n",
    "\n",
    "Jaa data opetusdataan (60%) ja testidataan (40%) ja tee opetusdatalla **lineaarinen regressiomalli** hinnan ennustamiseksi kentistä:\n",
    "* m2\n",
    "* rakennusvuosi\n",
    "* hissi (muunna 0/1)\n",
    "* kunto (muunna numeeriseksi)\n",
    "* tee uusi kenttä onkoKeskustassa, joka saa arvon 1, jos kaupunginosa = Keskusta\n",
    "\n",
    "Tsekkaa onko datassa puuttuvia arvoja ja korvaa ne ko. kentän mediaanilla. \n",
    "\n",
    "Testaa saatua mallia testidatalla.  \n",
    "Piirrä hajontakaavioon ennusteen antamat arvot vs toteutuneet arvot."
   ]
  },
  {
   "cell_type": "code",
   "execution_count": 3,
   "metadata": {},
   "outputs": [
    {
     "name": "stdout",
     "output_type": "stream",
     "text": [
      "Puuttuvien arvojen lukumäärä per muuttuja (3):\n",
      "kaupunginosa     0\n",
      "huoneisto        2\n",
      "m2               0\n",
      "hinta            0\n",
      "rakennusvuosi    0\n",
      "hissi            0\n",
      "kunto            0\n",
      "keskusta         0\n",
      "dtype: int64\n",
      "(307, 5)\n",
      "(206, 5)\n",
      "Testausdatan selityskerroin: 0.6659397877624792\n"
     ]
    },
    {
     "data": {
      "image/png": "[encoded data removed]",
      "text/plain": [
       "<Figure size 432x288 with 1 Axes>"
      ]
     },
     "metadata": {
      "needs_background": "light"
     },
     "output_type": "display_data"
    }
   ],
   "source": [
    "import pandas as pd\n",
    "import matplotlib.pyplot as plt\n",
    "from sklearn.linear_model import LinearRegression\n",
    "from sklearn.model_selection import train_test_split\n",
    "\n",
    "df = pd.read_csv('https://student.labranet.jamk.fi/~varpe/datananal2k2020/kerta7/teht5.txt', sep=\",\", decimal='.')\n",
    "\n",
    "#print(\"Puuttuvien arvojen lukumäärä per muuttuja (1):\\n%s\" % df.isnull().sum())\n",
    "df['hissi']=df['hissi'].map({'ei': 0, 'on': 1})\n",
    "df['kunto']=df['kunto'].map({'huono': 0, 'tyyd.': 1, 'hyvä': 0})\n",
    "df['keskusta'] = 0\n",
    "df.loc[(df['kaupunginosa']=='Keskusta'), 'keskusta'] = 1\n",
    "#print(\"Puuttuvien arvojen lukumäärä per muuttuja (2):\\n%s\" % df.isnull().sum())\n",
    "\n",
    "median_kunto = df[\"kunto\"].median()\n",
    "df[\"kunto\"].fillna(median_kunto, inplace=True)\n",
    "print(\"Puuttuvien arvojen lukumäärä per muuttuja (3):\\n%s\" % df.isnull().sum())\n",
    "#print(df)\n",
    "\n",
    "x = df[['m2','rakennusvuosi','hissi','kunto','keskusta']]\n",
    "y = df['hinta']\n",
    "\n",
    "# jaotellaan testi- / opetusdata\n",
    "xTrain, xTest, yTrain, yTest = train_test_split(x, y, test_size = 0.4, random_state = 31)\n",
    "print(xTrain.shape)\n",
    "print(xTest.shape)\n",
    "\n",
    "# luodaan malli-olio opetusdatalla\n",
    "model = LinearRegression()\n",
    "model.fit(xTrain,yTrain)\n",
    "\n",
    "# Testaus testidatalla\n",
    "print(\"Testausdatan selityskerroin:\", model.score(xTest,yTest))\n",
    "\n",
    "forecast = model.predict(xTest)\n",
    "plt.scatter(yTest, forecast)\n",
    "plt.xlabel('Havaittu')\n",
    "plt.ylabel('Ennustettu')\n",
    "plt.show()"
   ]
  },
  {
   "cell_type": "markdown",
   "metadata": {},
   "source": [
    "## 4. Koripallo\n",
    "\n",
    "Tiedostossa https://student.labranet.jamk.fi/~varpe/datananal2k2020/kerta7/nba_logreg.csv on 1340 NBA-pelaajan tilastoja heidän tulokaskaudeltaan. \n",
    "\n",
    "[kenttien selitys (eng)](https://student.labranet.jamk.fi/~varpe/datananal2k2020/kerta7/nba.png)\n",
    "\n",
    "Viimeinen sarake kertoo onko pelaaja sittemmin pelannut NBA:ssa yli 5 kautta. Kokeile kuinka hyvin **logistinen regressio** pystyy ennustamaan tämän muiden kentttien (pl. pelaajan nimi) avulla. Korvaa tarvittaessa puuttuvat arvot ko. kentän mediaanilla. Tulosta score ja confusion matrix.\n",
    "\n",
    "\n",
    "Tee sitten sama kokeilu **päätöspuun** avulla. Tulosta tästä myös kuinka paljon eri kentät vaikuttavat mallin mukaan ennustettavaan muuttujaan.\n",
    "\n",
    "Tässä ei tarvitse jakaa aineistoa opetus- ja testidataan."
   ]
  },
  {
   "cell_type": "code",
   "execution_count": 8,
   "metadata": {},
   "outputs": [
    {
     "name": "stdout",
     "output_type": "stream",
     "text": [
      "Accuracy: 0.7164179104477612\n",
      "[[266 243]\n",
      " [137 694]]\n",
      "Accuracy 2: 0.9850746268656716\n",
      "[[506   3]\n",
      " [ 17 814]]\n",
      "GP             0.396833\n",
      "MIN            0.317805\n",
      "PTS            0.315981\n",
      "FGM            0.317594\n",
      "FGA            0.292660\n",
      "FG%            0.227134\n",
      "3P Made        0.036619\n",
      "3PA            0.018110\n",
      "3P%           -0.003937\n",
      "FTM            0.296841\n",
      "FTA            0.296089\n",
      "FT%            0.106706\n",
      "OREB           0.293307\n",
      "DREB           0.284677\n",
      "REB            0.299406\n",
      "AST            0.175353\n",
      "STL            0.229811\n",
      "BLK            0.210114\n",
      "TOV            0.272348\n",
      "TARGET_5Yrs    1.000000\n",
      "dtype: float64\n"
     ]
    },
    {
     "name": "stderr",
     "output_type": "stream",
     "text": [
      "P:\\Programs\\Anaconda3\\lib\\site-packages\\sklearn\\linear_model\\logistic.py:432: FutureWarning: Default solver will be changed to 'lbfgs' in 0.22. Specify a solver to silence this warning.\n",
      "  FutureWarning)\n"
     ]
    }
   ],
   "source": [
    "import numpy as np\n",
    "import pandas as pd\n",
    "import matplotlib.pyplot as plt\n",
    "from sklearn.linear_model import LogisticRegression\n",
    "from sklearn.preprocessing import StandardScaler\n",
    "from sklearn.tree import DecisionTreeClassifier\n",
    "from sklearn.metrics import confusion_matrix\n",
    "from sklearn.tree import export_graphviz\n",
    "\n",
    "df = pd.read_csv('https://student.labranet.jamk.fi/~varpe/datananal2k2020/kerta7/nba_logreg.csv', sep=\",\", decimal='.')\n",
    "\n",
    "#print(df)\n",
    "#print(\"Puuttuvien arvojen lukumäärä per muuttuja (1):\\n%s\" % df.isnull().sum())\n",
    "# korvataan puuttuvat 3P% mediaanilla\n",
    "median_3P = df[\"3P%\"].median()\n",
    "df[\"3P%\"].fillna(median_3P, inplace=True)\n",
    "#print(\"Puuttuvien arvojen lukumäärä per muuttuja (2):\\n%s\" % df.isnull().sum())\n",
    "#print(df)\n",
    "#print(df.iloc[:, 1:21])\n",
    "\n",
    "#x = df.iloc[:, 1:20] # 0.716\n",
    "#x = df.iloc[:, np.r_[2:20]] # 0.692\n",
    "#x = df.iloc[:, 1:19] # 0.717\n",
    "#x = df.iloc[:, np.r_[1:17, 19]] # 0.722\n",
    "#x = df.iloc[:, np.r_[1,2,3,5,6,7,8,9,10,11,13,16,17,19]] # 0.722\n",
    "\n",
    "x = df.iloc[:, 1:20]\n",
    "y = df['TARGET_5Yrs']\n",
    "\n",
    "scaler = StandardScaler()\n",
    "xScaled = scaler.fit_transform(x)\n",
    "\n",
    "# luodaan logistinen regreassio malli\n",
    "model = LogisticRegression()\n",
    "model.fit(xScaled,y)\n",
    "\n",
    "# ennustetaan tulokset\n",
    "y_pred = model.predict(xScaled)\n",
    "# katsotaan tarkkuus\n",
    "print(\"Accuracy:\", model.score(xScaled,y))\n",
    "# Confusion Matrix\n",
    "print(confusion_matrix(y, y_pred))\n",
    "\n",
    "\n",
    "# luodaan päätöspuu malli\n",
    "model2 = DecisionTreeClassifier()\n",
    "# sovitetetaan, eli generoidaan päätöspuu\n",
    "model2.fit(x,y)\n",
    "\n",
    "# ennustetaan tulokset\n",
    "y_pred2 = model2.predict(x)\n",
    "# katsotaan tarkkuus\n",
    "print(\"Accuracy 2:\", model2.score(x,y))\n",
    "# Confusion Matrix\n",
    "print(confusion_matrix(y, y_pred2))\n",
    "\n",
    "#print(model.predict_proba(x))\n",
    "\n",
    "# kenttien vaikutus dataan\n",
    "print(df.corrwith(y))"
   ]
  },
  {
   "cell_type": "markdown",
   "metadata": {},
   "source": [
    "## 5. Sienet\n",
    "Tiedostossa https://student.labranet.jamk.fi/~varpe/datananal2k2020/kerta7/mushrooms.csv on tietoja sienistä (kenttien selitykset [englanniksi](https://student.labranet.jamk.fi/~varpe/datananal2k2020/kerta7/mushrooms.txt)).\n",
    "\n",
    "Pyri ennustamaan kentän _class_ arvoa muiden kenttien avulla **päätöspuulla**. \n",
    "Kentät ovat luokkamuotoisia, tyyliin \n",
    ">gill-attachment: attached=a,descending=d,free=f,notched=n\n",
    "\n",
    "Tee siis ensin (selittävistä) kentistä dummy-kentät pandasin get_dummies-funktiolla, voit tehdä sen kerralla kaikille sarakkeille.\n",
    "\n",
    "Jaa data opetusdataan ja testidataan 60/40%. \n",
    "\n",
    "Kokeile päätöspuulle max_depth-arvoja 2, 3, 4 ja 5 ja printtaa niiden antamat scoret ja confusion_matrixit."
   ]
  },
  {
   "cell_type": "code",
   "execution_count": 12,
   "metadata": {},
   "outputs": [
    {
     "name": "stdout",
     "output_type": "stream",
     "text": [
      "\n",
      "max depth 2:\n",
      "Selityskerroin: 0.9138461538461539\n",
      "[[4112   96]\n",
      " [ 604 3312]]\n",
      "\n",
      "max depth 3:\n",
      "Selityskerroin: 0.952\n",
      "[[3968  240]\n",
      " [ 108 3808]]\n",
      "\n",
      "max depth 4:\n",
      "Selityskerroin: 0.952\n",
      "[[3968  240]\n",
      " [ 108 3808]]\n",
      "\n",
      "max depth 5:\n",
      "Selityskerroin: 0.9796923076923076\n",
      "[[4112   96]\n",
      " [  48 3868]]\n"
     ]
    }
   ],
   "source": [
    "import numpy as np\n",
    "import pandas as pd\n",
    "import matplotlib.pyplot as plt\n",
    "from sklearn.preprocessing import StandardScaler, LabelEncoder\n",
    "from sklearn.tree import DecisionTreeClassifier\n",
    "from sklearn.metrics import confusion_matrix\n",
    "from sklearn.model_selection import train_test_split\n",
    "\n",
    "\n",
    "df = pd.read_csv('https://student.labranet.jamk.fi/~varpe/datananal2k2020/kerta7/mushrooms.csv', sep=\",\", decimal='.')\n",
    "\n",
    "#print(df)\n",
    "#print(\"Puuttuvien arvojen lukumäärä per muuttuja (1):\\n%s\" % df.isnull().sum())\n",
    "df2 = df.apply(LabelEncoder().fit_transform)\n",
    "#print(df2)\n",
    "#print(df2.iloc[:, 1:23])\n",
    "x = df2.iloc[:, 1:23]\n",
    "y = df['class']\n",
    "\n",
    "# Ei tarvita - Skaalataan, jotta kaikki yhtä painavia\n",
    "#scaler = StandardScaler()\n",
    "#x = scaler.fit_transform(x)\n",
    "\n",
    "# jaotellaan testi- / opetusdata\n",
    "xTrain, xTest, yTrain, yTest = train_test_split(x, y, test_size = 0.4, random_state = 31)\n",
    "#print(xTrain.shape)\n",
    "#print(xTest.shape)\n",
    "\n",
    "\n",
    "# luodaan päätöspuu malli\n",
    "model2 = DecisionTreeClassifier(criterion='entropy', max_depth=2)\n",
    "model3 = DecisionTreeClassifier(criterion='entropy', max_depth=3)\n",
    "model4 = DecisionTreeClassifier(criterion='entropy', max_depth=4)\n",
    "model5 = DecisionTreeClassifier(criterion='entropy', max_depth=5)\n",
    "\n",
    "\n",
    "# sovitetetaan, eli generoidaan päätöspuu\n",
    "model2.fit(xTrain,yTrain)\n",
    "model3.fit(xTrain,yTrain)\n",
    "model4.fit(xTrain,yTrain)\n",
    "model5.fit(xTrain,yTrain)\n",
    "\n",
    "\n",
    "print(\"\\nmax depth 2:\")\n",
    "print(\"Selityskerroin:\", model2.score(xTest,yTest))\n",
    "print(confusion_matrix(y, model2.predict(x)))\n",
    "\n",
    "print(\"\\nmax depth 3:\")\n",
    "print(\"Selityskerroin:\", model3.score(xTest,yTest))\n",
    "print(confusion_matrix(y, model3.predict(x)))\n",
    "\n",
    "print(\"\\nmax depth 4:\")\n",
    "print(\"Selityskerroin:\", model4.score(xTest,yTest))\n",
    "print(confusion_matrix(y, model4.predict(x)))\n",
    "\n",
    "print(\"\\nmax depth 5:\")\n",
    "print(\"Selityskerroin:\", model5.score(xTest,yTest))\n",
    "print(confusion_matrix(y, model5.predict(x)))\n"
   ]
  },
  {
   "cell_type": "code",
   "execution_count": null,
   "metadata": {},
   "outputs": [],
   "source": []
  }
 ],
 "metadata": {
  "kernelspec": {
   "display_name": "Python 3",
   "language": "python",
   "name": "python3"
  },
  "language_info": {
   "codemirror_mode": {
    "name": "ipython",
    "version": 3
   },
   "file_extension": ".py",
   "mimetype": "text/x-python",
   "name": "python",
   "nbconvert_exporter": "python",
   "pygments_lexer": "ipython3",
   "version": "3.7.4"
  }
 },
 "nbformat": 4,
 "nbformat_minor": 2
}
