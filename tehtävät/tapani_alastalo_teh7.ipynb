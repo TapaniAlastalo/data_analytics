{
 "cells": [
  {
   "cell_type": "markdown",
   "metadata": {
    "collapsed": true
   },
   "source": [
    "## Datan analysointi K2020_2 - Tehtävät kerta 7\n",
    "\n",
    "Palauta Optiman palautuslaatikkoon viimeistään su 12.4. Kirjoita palautuslaatikon kommenttikenttään, mitkä tehtävät olet tehnyt kokonaan/osittain.\n",
    "\n",
    "Opiskelijan nimi:"
   ]
  },
  {
   "cell_type": "markdown",
   "metadata": {},
   "source": [
    "# 1. Asunnon hinta\n",
    "Tiedostossa https://student.labranet.jamk.fi/~varpe/datananal2k2020/kerta7/teht1.txt on (kuvitteellisia) asuntojen myyntihintoja ja niiden tietoja (pinta-ala, makuuhuoneiden lukumäärä ja saunan olemassaolo).\n",
    "\n",
    "Tee **lineaarien regressiomalli**, jossa selittävinä muuttujina on pinta-ala, makuuhuoneiden lukumäärä ja saunan olemassaolo ja selitettävänä muuttujana myyntihinta. \n",
    "\n",
    "(Joudut muuttamaan sauna-kentän numeeriseksi)\n",
    "\n",
    "Laske mallille selityskerroin.\n",
    "\n",
    "Kokeile sitten mitä saat selityskertoimiksi, jos käytät selittävinä muuttuujina vain kahta kolmesta mahdollisesta.\n",
    "\n",
    "Piirrä parhaasta mallista kaavio ennustetuista ja havaituista arvoista.\n",
    "\n",
    "Tässä ei jaeta dataa opetus- ja testidataan.\n"
   ]
  },
  {
   "cell_type": "markdown",
   "metadata": {},
   "source": [
    "## 2. Ostaako\n",
    "\n",
    "Tiedostossa https://student.labranet.jamk.fi/~varpe/datananal2k2020/kerta7/teht2.txt on dataa henkilön tuloista, sukupuolesta ja siviilisäädystä. Lisäksi on tieto onko henkilö ostanut tuotteen vai ei.\n",
    "\n",
    "Tee **päätöspuu** asetuksella max_depth=4, joka yrittää selittää ostamista muiden kenttien avulla. Testaa sitten mallia ja  tulosta `score` ja `confusion_matrix`.\n",
    "\n",
    "Joudut muuttamaan joitain kenttiä numeerisiksi.\n",
    "\n",
    "\n",
    "Tee päätöspuusta vuokaavio (dot-tiedosto), visualisoi se ja päättele manuaalisesti sen avulla miten puu luokittelisi seuraavat tiedot:\n",
    "* tulot 60000, naimisissa, nainen\n",
    "* tulot 30000, ei-naimisissa, mies\n",
    "\n",
    "Kirjoita vastaukseen kommenttina päättelyketjut.\n",
    "\n",
    "Tässä ei jaeta dataa opetus- ja testidataan."
   ]
  },
  {
   "cell_type": "markdown",
   "metadata": {},
   "source": [
    "## 3. Jyväskylän kämpät\n",
    "Tiedostossa https://student.labranet.jamk.fi/~varpe/datananal2k2020/kerta7/teht5.txt on tietoja Jyväskylän toteutuneista kerrostaloasuntokaupoista  12 kk ajalta.\n",
    "\n",
    "Jaa data opetusdataan (60%) ja testidataan (40%) ja tee opetusdatalla **lineaarinen regressiomalli** hinnan ennustamiseksi kentistä:\n",
    "* m2\n",
    "* rakennusvuosi\n",
    "* hissi (muunna 0/1)\n",
    "* kunto (muunna numeeriseksi)\n",
    "* tee uusi kenttä onkoKeskustassa, joka saa arvon 1, jos kaupunginosa = Keskusta\n",
    "\n",
    "Tsekkaa onko datassa puuttuvia arvoja ja korvaa ne ko. kentän mediaanilla. \n",
    "\n",
    "Testaa saatua mallia testidatalla.  \n",
    "Piirrä hajontakaavioon ennusteen antamat arvot vs toteutuneet arvot."
   ]
  },
  {
   "cell_type": "markdown",
   "metadata": {},
   "source": [
    "## 4. Koripallo\n",
    "\n",
    "Tiedostossa https://student.labranet.jamk.fi/~varpe/datananal2k2020/kerta7/nba_logreg.csv on 1340 NBA-pelaajan tilastoja heidän tulokaskaudeltaan. \n",
    "\n",
    "[kenttien selitys (eng)](https://student.labranet.jamk.fi/~varpe/datananal2k2020/kerta7/nba.png)\n",
    "\n",
    "Viimeinen sarake kertoo onko pelaaja sittemmin pelannut NBA:ssa yli 5 kautta. Kokeile kuinka hyvin **logistinen regressio** pystyy ennustamaan tämän muiden kentttien (pl. pelaajan nimi) avulla. Korvaa tarvittaessa puuttuvat arvot ko. kentän mediaanilla. Tulosta score ja confusion matrix.\n",
    "\n",
    "\n",
    "Tee sitten sama kokeilu **päätöspuun** avulla. Tulosta tästä myös kuinka paljon eri kentät vaikuttavat mallin mukaan ennustettavaan muuttujaan.\n",
    "\n",
    "Tässä ei tarvitse jakaa aineistoa opetus- ja testidataan."
   ]
  },
  {
   "cell_type": "markdown",
   "metadata": {},
   "source": [
    "## 5. Sienet\n",
    "Tiedostossa https://student.labranet.jamk.fi/~varpe/datananal2k2020/kerta7/mushrooms.csv on tietoja sienistä (kenttien selitykset [englanniksi](https://student.labranet.jamk.fi/~varpe/datananal2k2020/kerta7/mushrooms.txt)).\n",
    "\n",
    "Pyri ennustamaan kentän _class_ arvoa muiden kenttien avulla **päätöspuulla**. \n",
    "Kentät ovat luokkamuotoisia, tyyliin \n",
    ">gill-attachment: attached=a,descending=d,free=f,notched=n\n",
    "\n",
    "Tee siis ensin (selittävistä) kentistä dummy-kentät pandasin get_dummies-funktiolla, voit tehdä sen kerralla kaikille sarakkeille.\n",
    "\n",
    "Jaa data opetusdataan ja testidataan 60/40%. \n",
    "\n",
    "Kokeile päätöspuulle max_depth-arvoja 2, 3, 4 ja 5 ja printtaa niiden antamat scoret ja confusion_matrixit."
   ]
  }
 ],
 "metadata": {
  "kernelspec": {
   "display_name": "Python 3",
   "language": "python",
   "name": "python3"
  },
  "language_info": {
   "codemirror_mode": {
    "name": "ipython",
    "version": 3
   },
   "file_extension": ".py",
   "mimetype": "text/x-python",
   "name": "python",
   "nbconvert_exporter": "python",
   "pygments_lexer": "ipython3",
   "version": "3.7.4"
  }
 },
 "nbformat": 4,
 "nbformat_minor": 2
}
