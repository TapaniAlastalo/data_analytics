{
 "cells": [
  {
   "cell_type": "markdown",
   "metadata": {},
   "source": [
    "## Datan analysointi K2020_2 - Tehtävät kerta 5\n",
    "\n",
    "Palauta Optiman palautuslaatikkoon viimeistään su 15.3. Kirjoita palautuslaatikon kommenttikenttään, mitkä tehtävät olet tehnyt kokonaan/osittain.\n",
    "\n",
    "**Opiskelijan nimi:**"
   ]
  },
  {
   "cell_type": "markdown",
   "metadata": {},
   "source": [
    "## 1. Autoja\n",
    "\n",
    "Tiedostossa https://student.labranet.jamk.fi/~varpe/datananal2k2020/kerta5/golf.zip on tietoja Trafin tiedoissa olevista VW Golf  -autoista.\n",
    "\n",
    "Lue tiedot DataFrameen ja erota kayttoonottopvm-kentästä käyttöönottovuosi.\n",
    "\n",
    "Tee sitten\n",
    "* histogrammi käyttöönottovuodesta\n",
    "* histogrammi matkamittarin lukemasta, rajaa pois yli 500 000 kilometrin lukemat\n",
    "* jointplot käyttöönottovuosi<->CO2-päästöt \n",
    "* jointplot omamassa<->suurinNettoteho (rajaa selvästi muista poikkeavat omamassa-arvot pois)\n",
    "* violinplot käyttöönottovuodesta käyttövoiman (yksittaisKayttovoima) mukaan. Ota mukaan vain käyttövoiman arvot 1.0 = bensiini, 2.0 = diesel"
   ]
  },
  {
   "cell_type": "markdown",
   "metadata": {},
   "source": [
    "## 2. Muotoilut\n",
    "Alla on annettu kaavion luontikoodi (käyttäen np-taulukoita). Tee kaaviosta yksityiskohtaisesti alla olevan mallin mukainen. Tutki [matplotlibin speksistä](https://matplotlib.org/api/_as_gen/matplotlib.pyplot.html#module-matplotlib.pyplot), miten kaavion osia muotoillaan.  \n",
    "\n",
    "![malli](https://student.labranet.jamk.fi/~varpe/datananal2k2020/kerta5/kaavio2.png)\n",
    "\n",
    "leikkauspiste -teksti on manuaalisesti asettetu, ei siis tarvitse erikseen laskea leikkauspistettä\n"
   ]
  },
  {
   "cell_type": "code",
   "execution_count": 5,
   "metadata": {},
   "outputs": [
    {
     "name": "stderr",
     "output_type": "stream",
     "text": [
      "C:\\Users\\Pekka\\Anaconda3\\lib\\site-packages\\ipykernel_launcher.py:10: RuntimeWarning: invalid value encountered in sqrt\n",
      "  # Remove the CWD from sys.path while we load stuff.\n"
     ]
    },
    {
     "data": {
      "image/png": "[encoded data removed]",
      "text/plain": [
       "<Figure size 432x288 with 1 Axes>"
      ]
     },
     "metadata": {
      "needs_background": "light"
     },
     "output_type": "display_data"
    }
   ],
   "source": [
    "import numpy as np\n",
    "import pandas as pd\n",
    "import matplotlib.pyplot as plt\n",
    "import seaborn as sns\n",
    "\n",
    "\n",
    "x = np.linspace(-2,10,1000)\n",
    "y1 =  2*x +1\n",
    "y2 = 0.2*x**2-2\n",
    "y3 = (x)**0.5\n",
    "fig, ax = plt.subplots()\n",
    "plt.plot(x, y1)\n",
    "plt.plot(x, y2)\n",
    "plt.plot(x, y3)\n",
    "\n",
    "plt.show()"
   ]
  },
  {
   "cell_type": "markdown",
   "metadata": {},
   "source": [
    "## 3. Liikennetietoja\n",
    "Tiedostossa https://student.labranet.jamk.fi/~varpe/datananal2k2020/kerta5/lam_raw.csv on yhden päivän tietoja eräältä automaattiselta liikennemittausasemalta ([LAM](https://vayla.fi/avoindata/tietoaineistot/lam-tiedot)). Erotin on puolipiste, mutta datatiedostossa ei ole otsikkoriviä. Kentät ovat järjestyksessä:  \n",
    "\n",
    "* pistetunnus\n",
    "* vuosi\n",
    "* päivän järjestysnumero\n",
    "* tunti\n",
    "* minuutti\n",
    "* sekunti\n",
    "* sadasosasekunti\n",
    "* pituus (m)\n",
    "* kaista\n",
    "* suunta\n",
    "* ajoneuvoluokka\n",
    "* nopeus (km/h)\n",
    "* faulty (0 = validi havainto, 1=virheellinen havainto)\n",
    "* kokonaisaika (tekninen)\n",
    "* aikaväli (tekninen)\n",
    "* jonoalku (tekninen)\n",
    "\n",
    "\n",
    "Lue tiedot DataFrameen ja poista virheelliset havainnot.\n",
    "Tutki sitten sopivien kaavioiden avulla suunnan, ajoneuvoluokan ja kellonajan (esim tunti) vaikutusta nopeusjakaumaan.\n"
   ]
  },
  {
   "cell_type": "markdown",
   "metadata": {},
   "source": [
    "## 4. Sää\n",
    "\n",
    "Lue tiedosto https://student.labranet.jamk.fi/~varpe/datananal2k2020/kerta5/saa_jkl20200229.csv DataFrameen ja tee subplotia käyttäen 4 kaaviota (2 riviä, 2 saraketta) samaan kuvioon (figure):\n",
    "* lumensyvydet tammi-helmikuun 2018, 2019 ja 2020 päiviltä samaan kaavioon. Korvaa ensin lumensyvyyden arvot -1 nollalla. Laske myös monesko päivä vuodesta on kyseessä ja laita tämä vaaka-akselille.\n",
    "* laske kuinka monta cm enemmän/vähemmän lumensyvyys on ollut 2020 kuin 2019 tammi-helmikuun aikana, ja tee tästä erosta viivakaavio, vaaka-akselilla päivä\n",
    "* laske kuinka paljon lumensyvyys on muuttunut edellisen päivän lukemasta ja tee näistä muutoksista histogrammi vuoden 2020 tammi-helmikuun päiviltä\n",
    "* regplot ilman lämpötilasta ja päivittäisistä lumensyvyyden muutoksista vuoden 2020 tammi-helmikuulta\n",
    "\n",
    "\n",
    "Laita kuvion kooksi 14 x 14 tuumaa\n",
    "\n",
    "Malli (ei tarvitse olla täsmälleen samannäköinen):  \n",
    "![malli4](https://student.labranet.jamk.fi/~varpe/datananal2k2020/kerta5/lumet2.png)\n"
   ]
  },
  {
   "cell_type": "markdown",
   "metadata": {},
   "source": [
    "## 5. Variaatiokerroin\n",
    "\n",
    "Tiedostossa https://student.labranet.jamk.fi/~varpe/datananal2k2020/kerta5/kone5.csv on erään koneen toiminnasta mittaustulosksia 10 sekunnin välein.\n",
    "\n",
    "Laske jokaiselle alkavalle tunnille mittaustuloksista `variaatiokerroin` (COV), joka määritellään **keskihajonta/keskiarvo** (siis kyseisen tunnin mittaustulosten keskihajonta ja keskiarvo, pura ensin tuntitieto päivä- ja aikasarakkeesta).\n",
    "\n",
    "Tee sitten näistä COV-lukemista oheinen \"kertymäkaavio\", jossa vaaka-akselilla on luvut 0-100 kuvaamassa kuinka monta % COV-arvoista on alle tämän kohdan arvon, ja pystyakselilla COV-arvot.\n",
    "\n",
    "\n",
    "Rajaa kaavion y-akseli välille 0 ... 0,1\n",
    "\n",
    "\n",
    "Värjää pienin 30 % vihreällä ja suurin 15 % punaisella.\n",
    "\n",
    "\n",
    "Malli:  \n",
    "![malli5](https://student.labranet.jamk.fi/~varpe/datananal2k2020/kerta5/malli5.png)\n",
    "\n",
    "Siis esim. kohdassa 60 kuvaaja on korkeudella n. 0,005 tarkoittaen, että 60 % tunneittaisista COV-arvoista on alle n. 0,005  \n",
    "![malli5b](https://student.labranet.jamk.fi/~varpe/datananal2k2020/kerta5/malli5b.png)\n",
    "(kaavioon ei näitä 60->0.005 -viivoja tarvitse piirtää)"
   ]
  }
 ],
 "metadata": {
  "kernelspec": {
   "display_name": "Python 3",
   "language": "python",
   "name": "python3"
  },
  "language_info": {
   "codemirror_mode": {
    "name": "ipython",
    "version": 3
   },
   "file_extension": ".py",
   "mimetype": "text/x-python",
   "name": "python",
   "nbconvert_exporter": "python",
   "pygments_lexer": "ipython3",
   "version": "3.7.4"
  }
 },
 "nbformat": 4,
 "nbformat_minor": 2
}
