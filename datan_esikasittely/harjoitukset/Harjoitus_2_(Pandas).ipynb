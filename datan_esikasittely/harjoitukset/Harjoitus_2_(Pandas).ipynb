{
 "cells": [
  {
   "cell_type": "markdown",
   "metadata": {},
   "source": [
    "## Pandas-tehtävät OSA 2"
   ]
  },
  {
   "cell_type": "markdown",
   "metadata": {},
   "source": [
    "#### Lue edellisen harjoituksen lopussa tallennetun data_export.csv-tiedoston sisältö dataframeen"
   ]
  },
  {
   "cell_type": "code",
   "execution_count": 124,
   "metadata": {},
   "outputs": [],
   "source": [
    "import re\n",
    "import pandas as pd\n",
    "\n",
    "df = pd.read_csv('./data_export.csv', sep = ',', decimal='.', encoding='latin_1')\n",
    "\n",
    "# tiputa unnamed\n",
    "del df['Unnamed: 0']\n",
    "print(df.head(1))"
   ]
  },
  {
   "cell_type": "markdown",
   "metadata": {},
   "source": [
    "#### Pudota rivit, joissa esiintyy nan-arvo"
   ]
  },
  {
   "cell_type": "code",
   "execution_count": 125,
   "metadata": {},
   "outputs": [
    {
     "name": "stdout",
     "output_type": "stream",
     "text": [
      "   Unnamed: 0  sarake1   sarake2   sarake3\n",
      "0           0      NaN  0.380058  0.919389\n",
      "   Unnamed: 0   sarake1   sarake2   sarake3\n",
      "1           1  0.922251  0.490721  0.133932\n"
     ]
    }
   ],
   "source": [
    "print(df.head(1))\n",
    "df.dropna(inplace=True)\n",
    "print(df.head(1))"
   ]
  },
  {
   "cell_type": "markdown",
   "metadata": {},
   "source": [
    "#### Muuta viidennen ja kymmenennen rivin kaikiksi arvoiksi nan"
   ]
  },
  {
   "cell_type": "code",
   "execution_count": 126,
   "metadata": {},
   "outputs": [
    {
     "name": "stdout",
     "output_type": "stream",
     "text": [
      "    Unnamed: 0   sarake1   sarake2   sarake3\n",
      "1          1.0  0.922251  0.490721  0.133932\n",
      "2          3.0  0.363707  0.878349  0.485700\n",
      "3          6.0  0.323134  0.036466  0.186775\n",
      "4          7.0  0.467610  0.850993  0.377558\n",
      "5          NaN       NaN       NaN       NaN\n",
      "6          9.0  0.733485  0.591996  0.658924\n",
      "7         10.0  0.641628  0.251886  0.274987\n",
      "8         12.0  0.319906  0.489200  0.990319\n",
      "9         13.0  0.780267  0.458454  0.053428\n",
      "10         NaN       NaN       NaN       NaN\n",
      "11        17.0  0.273193  0.300307  0.768270\n",
      "12        18.0  0.467060  0.225161  0.911570\n",
      "13        20.0  0.300589  0.455980  0.292225\n",
      "14        21.0  0.859970  0.346539  0.364629\n",
      "15        22.0  0.842364  0.093485  0.662066\n",
      "16        23.0  0.781693  0.573344  0.815692\n",
      "17        24.0  0.788949  0.945625  0.852690\n"
     ]
    }
   ],
   "source": [
    "#df.iloc[0::5, :] = None\n",
    "df.iloc[4, :] = None\n",
    "df.iloc[9, :] = None\n",
    "print(df)"
   ]
  },
  {
   "cell_type": "markdown",
   "metadata": {},
   "source": [
    "#### Tulosta nan-arvojen määrä jokaisesta sarakkeesta DataFrame-objektista"
   ]
  },
  {
   "cell_type": "code",
   "execution_count": 127,
   "metadata": {},
   "outputs": [
    {
     "data": {
      "text/plain": [
       "Unnamed: 0    2\n",
       "sarake1       2\n",
       "sarake2       2\n",
       "sarake3       2\n",
       "dtype: int64"
      ]
     },
     "execution_count": 127,
     "metadata": {},
     "output_type": "execute_result"
    }
   ],
   "source": [
    "df.isna().sum()"
   ]
  },
  {
   "cell_type": "markdown",
   "metadata": {},
   "source": [
    "#### Täytä edellä tehdyt nan-arvot lineaarisella interpolaatiolla"
   ]
  },
  {
   "cell_type": "code",
   "execution_count": 128,
   "metadata": {},
   "outputs": [
    {
     "name": "stdout",
     "output_type": "stream",
     "text": [
      "    Unnamed: 0   sarake1   sarake2   sarake3\n",
      "1          1.0  0.922251  0.490721  0.133932\n",
      "2          3.0  0.363707  0.878349  0.485700\n",
      "3          6.0  0.323134  0.036466  0.186775\n",
      "4          7.0  0.467610  0.850993  0.377558\n",
      "5          8.0  0.600548  0.721495  0.518241\n",
      "6          9.0  0.733485  0.591996  0.658924\n",
      "7         10.0  0.641628  0.251886  0.274987\n",
      "8         12.0  0.319906  0.489200  0.990319\n",
      "9         13.0  0.780267  0.458454  0.053428\n",
      "10        15.0  0.526730  0.379381  0.410849\n",
      "11        17.0  0.273193  0.300307  0.768270\n",
      "12        18.0  0.467060  0.225161  0.911570\n",
      "13        20.0  0.300589  0.455980  0.292225\n",
      "14        21.0  0.859970  0.346539  0.364629\n",
      "15        22.0  0.842364  0.093485  0.662066\n",
      "16        23.0  0.781693  0.573344  0.815692\n",
      "17        24.0  0.788949  0.945625  0.852690\n"
     ]
    }
   ],
   "source": [
    "df.interpolate(inplace=True)\n",
    "print(df)"
   ]
  },
  {
   "cell_type": "markdown",
   "metadata": {},
   "source": [
    "#### Vaihda `sarake1`:n viimeiseksi arvoksi 94 ja `sarake3`:n viimeiseksi arvoksi 45"
   ]
  },
  {
   "cell_type": "code",
   "execution_count": 129,
   "metadata": {},
   "outputs": [
    {
     "name": "stdout",
     "output_type": "stream",
     "text": [
      "    Unnamed: 0  sarake1   sarake2  sarake3\n",
      "17        24.0     94.0  0.945625     45.0\n"
     ]
    }
   ],
   "source": [
    "df.at[df.index[-1], 'sarake1'] = 94\n",
    "df.at[df.index[-1], 'sarake3'] = 45\n",
    "print(df.tail(1))"
   ]
  },
  {
   "cell_type": "markdown",
   "metadata": {},
   "source": [
    "#### Lisää uusi sarake DataFrame-objektiin (`sarake4`), joka koostuu sarakkeiden `sarake1` ja `sarake3` summasta"
   ]
  },
  {
   "cell_type": "code",
   "execution_count": 130,
   "metadata": {},
   "outputs": [
    {
     "name": "stdout",
     "output_type": "stream",
     "text": [
      "    Unnamed: 0    sarake1   sarake2    sarake3     sarake4\n",
      "1          1.0   0.922251  0.490721   0.133932    1.056182\n",
      "2          3.0   0.363707  0.878349   0.485700    0.849407\n",
      "3          6.0   0.323134  0.036466   0.186775    0.509909\n",
      "4          7.0   0.467610  0.850993   0.377558    0.845168\n",
      "5          8.0   0.600548  0.721495   0.518241    1.118788\n",
      "6          9.0   0.733485  0.591996   0.658924    1.392409\n",
      "7         10.0   0.641628  0.251886   0.274987    0.916615\n",
      "8         12.0   0.319906  0.489200   0.990319    1.310225\n",
      "9         13.0   0.780267  0.458454   0.053428    0.833695\n",
      "10        15.0   0.526730  0.379381   0.410849    0.937579\n",
      "11        17.0   0.273193  0.300307   0.768270    1.041463\n",
      "12        18.0   0.467060  0.225161   0.911570    1.378630\n",
      "13        20.0   0.300589  0.455980   0.292225    0.592814\n",
      "14        21.0   0.859970  0.346539   0.364629    1.224599\n",
      "15        22.0   0.842364  0.093485   0.662066    1.504430\n",
      "16        23.0   0.781693  0.573344   0.815692    1.597386\n",
      "17        24.0  94.000000  0.945625  45.000000  139.000000\n"
     ]
    }
   ],
   "source": [
    "df['sarake4']=df['sarake1']+df['sarake3']\n",
    "print(df)"
   ]
  },
  {
   "cell_type": "markdown",
   "metadata": {},
   "source": [
    "#### Resetoi DataFrame-objektin indeksi ja tulosta rivien määrä"
   ]
  },
  {
   "cell_type": "code",
   "execution_count": 131,
   "metadata": {},
   "outputs": [
    {
     "data": {
      "text/plain": [
       "17"
      ]
     },
     "execution_count": 131,
     "metadata": {},
     "output_type": "execute_result"
    }
   ],
   "source": [
    "df.reset_index(drop=True, inplace=True)\n",
    "df.shape[0]"
   ]
  },
  {
   "cell_type": "markdown",
   "metadata": {},
   "source": [
    "#### Tee DataFrame-objektin mittainen aikasarjadata haluamallasi aikavälillä ja tee siitä indeksisarake"
   ]
  },
  {
   "cell_type": "code",
   "execution_count": 132,
   "metadata": {},
   "outputs": [
    {
     "name": "stdout",
     "output_type": "stream",
     "text": [
      "                     Unnamed: 0    sarake1   sarake2    sarake3     sarake4\n",
      "time                                                                       \n",
      "2020-08-25 00:00:00         1.0   0.922251  0.490721   0.133932    1.056182\n",
      "2020-08-25 01:00:00         3.0   0.363707  0.878349   0.485700    0.849407\n",
      "2020-08-25 02:00:00         6.0   0.323134  0.036466   0.186775    0.509909\n",
      "2020-08-25 03:00:00         7.0   0.467610  0.850993   0.377558    0.845168\n",
      "2020-08-25 04:00:00         8.0   0.600548  0.721495   0.518241    1.118788\n",
      "2020-08-25 05:00:00         9.0   0.733485  0.591996   0.658924    1.392409\n",
      "2020-08-25 06:00:00        10.0   0.641628  0.251886   0.274987    0.916615\n",
      "2020-08-25 07:00:00        12.0   0.319906  0.489200   0.990319    1.310225\n",
      "2020-08-25 08:00:00        13.0   0.780267  0.458454   0.053428    0.833695\n",
      "2020-08-25 09:00:00        15.0   0.526730  0.379381   0.410849    0.937579\n",
      "2020-08-25 10:00:00        17.0   0.273193  0.300307   0.768270    1.041463\n",
      "2020-08-25 11:00:00        18.0   0.467060  0.225161   0.911570    1.378630\n",
      "2020-08-25 12:00:00        20.0   0.300589  0.455980   0.292225    0.592814\n",
      "2020-08-25 13:00:00        21.0   0.859970  0.346539   0.364629    1.224599\n",
      "2020-08-25 14:00:00        22.0   0.842364  0.093485   0.662066    1.504430\n",
      "2020-08-25 15:00:00        23.0   0.781693  0.573344   0.815692    1.597386\n",
      "2020-08-25 16:00:00        24.0  94.000000  0.945625  45.000000  139.000000\n"
     ]
    }
   ],
   "source": [
    "#size = len(df.index)\n",
    "size = df.shape[0]\n",
    "time_serie = pd.date_range(start='8/25/2020', periods=size, freq='H')\n",
    "df['time'] = time_serie\n",
    "df.set_index('time', inplace=True)\n",
    "print(df)"
   ]
  },
  {
   "cell_type": "markdown",
   "metadata": {},
   "source": [
    "#### Muuta `sarake1` kaikki arvot merkkijonoiksi, joissa jokainen nolla on korvattu isolla 'ND'-kirjainyhdistelmällä."
   ]
  },
  {
   "cell_type": "code",
   "execution_count": 133,
   "metadata": {},
   "outputs": [
    {
     "name": "stdout",
     "output_type": "stream",
     "text": [
      "time\n",
      "2020-08-25 00:00:00      ND.92225ND592ND455354\n",
      "2020-08-25 01:00:00       ND.3637ND65716836567\n",
      "2020-08-25 02:00:00       ND.32313386814ND7583\n",
      "2020-08-25 03:00:00     ND.4676ND99556ND15ND96\n",
      "2020-08-25 04:00:00     ND.6NDND54763516866ND7\n",
      "2020-08-25 05:00:00        ND.7334853147358118\n",
      "2020-08-25 06:00:00       ND.641628229ND317612\n",
      "2020-08-25 07:00:00    ND.3199ND554258ND25ND83\n",
      "2020-08-25 08:00:00       ND.78ND2672238818178\n",
      "2020-08-25 09:00:00      ND.52673NDND622774852\n",
      "2020-08-25 10:00:00      ND.2731929NDND6731526\n",
      "2020-08-25 11:00:00    ND.467ND6NDND4ND1299349\n",
      "2020-08-25 12:00:00    ND.3NDND5888788521NDND1\n",
      "2020-08-25 13:00:00      ND.8599699ND1ND91ND25\n",
      "2020-08-25 14:00:00       ND.8423644152934ND61\n",
      "2020-08-25 15:00:00       ND.78169332392ND8187\n",
      "2020-08-25 16:00:00                      94.ND\n",
      "Name: sarake1, dtype: object\n"
     ]
    }
   ],
   "source": [
    "df.sarake1 = df.sarake1.astype(str).str.replace('0','ND')\n",
    "print(df.sarake1)"
   ]
  },
  {
   "cell_type": "markdown",
   "metadata": {},
   "source": [
    "#### Tee DataFrame-objektista kopio, jonka sarakkeiden nimet on muutettu seuraaviksi : `sarake5`, `sarake6`, `sarake7`, `sarake8`. Tämän jälkeen tee yksi iso DataFrame-objekti, joka koostuu alkuperäisestä DataFramesta sekä kopiosta niin, että ne on lisätty vierekkäin.\n",
    "\n",
    "\n",
    "| sarake1        | sarake2           | sarake3  | sarake4 | sarake5      | sarake6 | sarake7 | sarake8 |\n",
    "| ------------- |:-------------:| -----:| ------------- |:-------------:| -----:|-----:|-----:|\n",
    "| 0.1      | 0.2 | 0.3 | ... | ...  | ... | ... | ... |"
   ]
  },
  {
   "cell_type": "code",
   "execution_count": 134,
   "metadata": {},
   "outputs": [
    {
     "name": "stdout",
     "output_type": "stream",
     "text": [
      "                     Unnamed: 0                  sarake1   sarake2    sarake3  \\\n",
      "time                                                                            \n",
      "2020-08-25 00:00:00         1.0    ND.92225ND592ND455354  0.490721   0.133932   \n",
      "2020-08-25 01:00:00         3.0     ND.3637ND65716836567  0.878349   0.485700   \n",
      "2020-08-25 02:00:00         6.0     ND.32313386814ND7583  0.036466   0.186775   \n",
      "2020-08-25 03:00:00         7.0   ND.4676ND99556ND15ND96  0.850993   0.377558   \n",
      "2020-08-25 04:00:00         8.0   ND.6NDND54763516866ND7  0.721495   0.518241   \n",
      "2020-08-25 05:00:00         9.0      ND.7334853147358118  0.591996   0.658924   \n",
      "2020-08-25 06:00:00        10.0     ND.641628229ND317612  0.251886   0.274987   \n",
      "2020-08-25 07:00:00        12.0  ND.3199ND554258ND25ND83  0.489200   0.990319   \n",
      "2020-08-25 08:00:00        13.0     ND.78ND2672238818178  0.458454   0.053428   \n",
      "2020-08-25 09:00:00        15.0    ND.52673NDND622774852  0.379381   0.410849   \n",
      "2020-08-25 10:00:00        17.0    ND.2731929NDND6731526  0.300307   0.768270   \n",
      "2020-08-25 11:00:00        18.0  ND.467ND6NDND4ND1299349  0.225161   0.911570   \n",
      "2020-08-25 12:00:00        20.0  ND.3NDND5888788521NDND1  0.455980   0.292225   \n",
      "2020-08-25 13:00:00        21.0    ND.8599699ND1ND91ND25  0.346539   0.364629   \n",
      "2020-08-25 14:00:00        22.0     ND.8423644152934ND61  0.093485   0.662066   \n",
      "2020-08-25 15:00:00        23.0     ND.78169332392ND8187  0.573344   0.815692   \n",
      "2020-08-25 16:00:00        24.0                    94.ND  0.945625  45.000000   \n",
      "\n",
      "                        sarake4  \n",
      "time                             \n",
      "2020-08-25 00:00:00    1.056182  \n",
      "2020-08-25 01:00:00    0.849407  \n",
      "2020-08-25 02:00:00    0.509909  \n",
      "2020-08-25 03:00:00    0.845168  \n",
      "2020-08-25 04:00:00    1.118788  \n",
      "2020-08-25 05:00:00    1.392409  \n",
      "2020-08-25 06:00:00    0.916615  \n",
      "2020-08-25 07:00:00    1.310225  \n",
      "2020-08-25 08:00:00    0.833695  \n",
      "2020-08-25 09:00:00    0.937579  \n",
      "2020-08-25 10:00:00    1.041463  \n",
      "2020-08-25 11:00:00    1.378630  \n",
      "2020-08-25 12:00:00    0.592814  \n",
      "2020-08-25 13:00:00    1.224599  \n",
      "2020-08-25 14:00:00    1.504430  \n",
      "2020-08-25 15:00:00    1.597386  \n",
      "2020-08-25 16:00:00  139.000000  \n"
     ]
    }
   ],
   "source": [
    "sarakkeet = ['sarake5', 'sarake6', 'sarake7', 'sarake8']\n",
    "#df[sarakkeet] = df.copy(deep=True)\n",
    "print(df)"
   ]
  },
  {
   "cell_type": "markdown",
   "metadata": {},
   "source": [
    "Sijoita `sarake5`:n viimeinen arvo muuttujaan sekä `sarake3`:n viimeinen arvo erilliseen muuttujaan juuri tehdystä DataFrame-objektista merkkijonomuodossa. Summaa kyseiset muuttujat merkkijonona sekä poista kaksi viimeistä merkkiä lopputuloksesta. Lopuksi poista kaikki pisteet `.`."
   ]
  },
  {
   "cell_type": "code",
   "execution_count": 135,
   "metadata": {},
   "outputs": [
    {
     "ename": "KeyError",
     "evalue": "'sarake5'",
     "output_type": "error",
     "traceback": [
      "\u001b[1;31m---------------------------------------------------------------------------\u001b[0m",
      "\u001b[1;31mKeyError\u001b[0m                                  Traceback (most recent call last)",
      "\u001b[1;32mP:\\Programs\\Anaconda3\\lib\\site-packages\\pandas\\core\\indexes\\base.py\u001b[0m in \u001b[0;36mget_loc\u001b[1;34m(self, key, method, tolerance)\u001b[0m\n\u001b[0;32m   2896\u001b[0m             \u001b[1;32mtry\u001b[0m\u001b[1;33m:\u001b[0m\u001b[1;33m\u001b[0m\u001b[1;33m\u001b[0m\u001b[0m\n\u001b[1;32m-> 2897\u001b[1;33m                 \u001b[1;32mreturn\u001b[0m \u001b[0mself\u001b[0m\u001b[1;33m.\u001b[0m\u001b[0m_engine\u001b[0m\u001b[1;33m.\u001b[0m\u001b[0mget_loc\u001b[0m\u001b[1;33m(\u001b[0m\u001b[0mkey\u001b[0m\u001b[1;33m)\u001b[0m\u001b[1;33m\u001b[0m\u001b[1;33m\u001b[0m\u001b[0m\n\u001b[0m\u001b[0;32m   2898\u001b[0m             \u001b[1;32mexcept\u001b[0m \u001b[0mKeyError\u001b[0m\u001b[1;33m:\u001b[0m\u001b[1;33m\u001b[0m\u001b[1;33m\u001b[0m\u001b[0m\n",
      "\u001b[1;32mpandas\\_libs\\index.pyx\u001b[0m in \u001b[0;36mpandas._libs.index.IndexEngine.get_loc\u001b[1;34m()\u001b[0m\n",
      "\u001b[1;32mpandas\\_libs\\index.pyx\u001b[0m in \u001b[0;36mpandas._libs.index.IndexEngine.get_loc\u001b[1;34m()\u001b[0m\n",
      "\u001b[1;32mpandas\\_libs\\hashtable_class_helper.pxi\u001b[0m in \u001b[0;36mpandas._libs.hashtable.PyObjectHashTable.get_item\u001b[1;34m()\u001b[0m\n",
      "\u001b[1;32mpandas\\_libs\\hashtable_class_helper.pxi\u001b[0m in \u001b[0;36mpandas._libs.hashtable.PyObjectHashTable.get_item\u001b[1;34m()\u001b[0m\n",
      "\u001b[1;31mKeyError\u001b[0m: 'sarake5'",
      "\nDuring handling of the above exception, another exception occurred:\n",
      "\u001b[1;31mKeyError\u001b[0m                                  Traceback (most recent call last)",
      "\u001b[1;32m<ipython-input-135-8ef1120d2b04>\u001b[0m in \u001b[0;36m<module>\u001b[1;34m\u001b[0m\n\u001b[1;32m----> 1\u001b[1;33m \u001b[0mmuuttuja\u001b[0m \u001b[1;33m=\u001b[0m \u001b[0mdf\u001b[0m\u001b[1;33m.\u001b[0m\u001b[0mat\u001b[0m\u001b[1;33m[\u001b[0m\u001b[0mdf\u001b[0m\u001b[1;33m.\u001b[0m\u001b[0mindex\u001b[0m\u001b[1;33m[\u001b[0m\u001b[1;33m-\u001b[0m\u001b[1;36m1\u001b[0m\u001b[1;33m]\u001b[0m\u001b[1;33m,\u001b[0m \u001b[1;34m'sarake5'\u001b[0m\u001b[1;33m]\u001b[0m\u001b[1;33m\u001b[0m\u001b[1;33m\u001b[0m\u001b[0m\n\u001b[0m\u001b[0;32m      2\u001b[0m \u001b[0merillinen_muuttuja\u001b[0m \u001b[1;33m=\u001b[0m \u001b[0mdf\u001b[0m\u001b[1;33m.\u001b[0m\u001b[0mat\u001b[0m\u001b[1;33m[\u001b[0m\u001b[0mdf\u001b[0m\u001b[1;33m.\u001b[0m\u001b[0mindex\u001b[0m\u001b[1;33m[\u001b[0m\u001b[1;33m-\u001b[0m\u001b[1;36m1\u001b[0m\u001b[1;33m]\u001b[0m\u001b[1;33m,\u001b[0m \u001b[1;34m'sarake3'\u001b[0m\u001b[1;33m]\u001b[0m\u001b[1;33m.\u001b[0m\u001b[0mastype\u001b[0m\u001b[1;33m(\u001b[0m\u001b[0mstr\u001b[0m\u001b[1;33m)\u001b[0m\u001b[1;33m\u001b[0m\u001b[1;33m\u001b[0m\u001b[0m\n\u001b[0;32m      3\u001b[0m \u001b[0msumma\u001b[0m \u001b[1;33m=\u001b[0m \u001b[0mmuuttuja\u001b[0m \u001b[1;33m+\u001b[0m \u001b[0merillinen_muuttuja\u001b[0m\u001b[1;33m\u001b[0m\u001b[1;33m\u001b[0m\u001b[0m\n\u001b[0;32m      4\u001b[0m \u001b[0msumma\u001b[0m \u001b[1;33m=\u001b[0m \u001b[0msumma\u001b[0m\u001b[1;33m[\u001b[0m\u001b[1;33m:\u001b[0m\u001b[1;33m-\u001b[0m\u001b[1;36m2\u001b[0m\u001b[1;33m]\u001b[0m\u001b[1;33m\u001b[0m\u001b[1;33m\u001b[0m\u001b[0m\n\u001b[0;32m      5\u001b[0m \u001b[0msumma\u001b[0m \u001b[1;33m=\u001b[0m \u001b[0mre\u001b[0m\u001b[1;33m.\u001b[0m\u001b[0msub\u001b[0m\u001b[1;33m(\u001b[0m\u001b[1;34mr'[.]'\u001b[0m\u001b[1;33m,\u001b[0m \u001b[1;34m''\u001b[0m\u001b[1;33m,\u001b[0m \u001b[0msumma\u001b[0m\u001b[1;33m)\u001b[0m\u001b[1;33m\u001b[0m\u001b[1;33m\u001b[0m\u001b[0m\n",
      "\u001b[1;32mP:\\Programs\\Anaconda3\\lib\\site-packages\\pandas\\core\\indexing.py\u001b[0m in \u001b[0;36m__getitem__\u001b[1;34m(self, key)\u001b[0m\n\u001b[0;32m   2198\u001b[0m \u001b[1;33m\u001b[0m\u001b[0m\n\u001b[0;32m   2199\u001b[0m         \u001b[0mkey\u001b[0m \u001b[1;33m=\u001b[0m \u001b[0mself\u001b[0m\u001b[1;33m.\u001b[0m\u001b[0m_convert_key\u001b[0m\u001b[1;33m(\u001b[0m\u001b[0mkey\u001b[0m\u001b[1;33m)\u001b[0m\u001b[1;33m\u001b[0m\u001b[1;33m\u001b[0m\u001b[0m\n\u001b[1;32m-> 2200\u001b[1;33m         \u001b[1;32mreturn\u001b[0m \u001b[0mself\u001b[0m\u001b[1;33m.\u001b[0m\u001b[0mobj\u001b[0m\u001b[1;33m.\u001b[0m\u001b[0m_get_value\u001b[0m\u001b[1;33m(\u001b[0m\u001b[1;33m*\u001b[0m\u001b[0mkey\u001b[0m\u001b[1;33m,\u001b[0m \u001b[0mtakeable\u001b[0m\u001b[1;33m=\u001b[0m\u001b[0mself\u001b[0m\u001b[1;33m.\u001b[0m\u001b[0m_takeable\u001b[0m\u001b[1;33m)\u001b[0m\u001b[1;33m\u001b[0m\u001b[1;33m\u001b[0m\u001b[0m\n\u001b[0m\u001b[0;32m   2201\u001b[0m \u001b[1;33m\u001b[0m\u001b[0m\n\u001b[0;32m   2202\u001b[0m     \u001b[1;32mdef\u001b[0m \u001b[0m__setitem__\u001b[0m\u001b[1;33m(\u001b[0m\u001b[0mself\u001b[0m\u001b[1;33m,\u001b[0m \u001b[0mkey\u001b[0m\u001b[1;33m,\u001b[0m \u001b[0mvalue\u001b[0m\u001b[1;33m)\u001b[0m\u001b[1;33m:\u001b[0m\u001b[1;33m\u001b[0m\u001b[1;33m\u001b[0m\u001b[0m\n",
      "\u001b[1;32mP:\\Programs\\Anaconda3\\lib\\site-packages\\pandas\\core\\frame.py\u001b[0m in \u001b[0;36m_get_value\u001b[1;34m(self, index, col, takeable)\u001b[0m\n\u001b[0;32m   2826\u001b[0m             \u001b[1;32mreturn\u001b[0m \u001b[0mcom\u001b[0m\u001b[1;33m.\u001b[0m\u001b[0mmaybe_box_datetimelike\u001b[0m\u001b[1;33m(\u001b[0m\u001b[0mseries\u001b[0m\u001b[1;33m.\u001b[0m\u001b[0m_values\u001b[0m\u001b[1;33m[\u001b[0m\u001b[0mindex\u001b[0m\u001b[1;33m]\u001b[0m\u001b[1;33m)\u001b[0m\u001b[1;33m\u001b[0m\u001b[1;33m\u001b[0m\u001b[0m\n\u001b[0;32m   2827\u001b[0m \u001b[1;33m\u001b[0m\u001b[0m\n\u001b[1;32m-> 2828\u001b[1;33m         \u001b[0mseries\u001b[0m \u001b[1;33m=\u001b[0m \u001b[0mself\u001b[0m\u001b[1;33m.\u001b[0m\u001b[0m_get_item_cache\u001b[0m\u001b[1;33m(\u001b[0m\u001b[0mcol\u001b[0m\u001b[1;33m)\u001b[0m\u001b[1;33m\u001b[0m\u001b[1;33m\u001b[0m\u001b[0m\n\u001b[0m\u001b[0;32m   2829\u001b[0m         \u001b[0mengine\u001b[0m \u001b[1;33m=\u001b[0m \u001b[0mself\u001b[0m\u001b[1;33m.\u001b[0m\u001b[0mindex\u001b[0m\u001b[1;33m.\u001b[0m\u001b[0m_engine\u001b[0m\u001b[1;33m\u001b[0m\u001b[1;33m\u001b[0m\u001b[0m\n\u001b[0;32m   2830\u001b[0m \u001b[1;33m\u001b[0m\u001b[0m\n",
      "\u001b[1;32mP:\\Programs\\Anaconda3\\lib\\site-packages\\pandas\\core\\generic.py\u001b[0m in \u001b[0;36m_get_item_cache\u001b[1;34m(self, item)\u001b[0m\n\u001b[0;32m   3268\u001b[0m         \u001b[0mres\u001b[0m \u001b[1;33m=\u001b[0m \u001b[0mcache\u001b[0m\u001b[1;33m.\u001b[0m\u001b[0mget\u001b[0m\u001b[1;33m(\u001b[0m\u001b[0mitem\u001b[0m\u001b[1;33m)\u001b[0m\u001b[1;33m\u001b[0m\u001b[1;33m\u001b[0m\u001b[0m\n\u001b[0;32m   3269\u001b[0m         \u001b[1;32mif\u001b[0m \u001b[0mres\u001b[0m \u001b[1;32mis\u001b[0m \u001b[1;32mNone\u001b[0m\u001b[1;33m:\u001b[0m\u001b[1;33m\u001b[0m\u001b[1;33m\u001b[0m\u001b[0m\n\u001b[1;32m-> 3270\u001b[1;33m             \u001b[0mvalues\u001b[0m \u001b[1;33m=\u001b[0m \u001b[0mself\u001b[0m\u001b[1;33m.\u001b[0m\u001b[0m_data\u001b[0m\u001b[1;33m.\u001b[0m\u001b[0mget\u001b[0m\u001b[1;33m(\u001b[0m\u001b[0mitem\u001b[0m\u001b[1;33m)\u001b[0m\u001b[1;33m\u001b[0m\u001b[1;33m\u001b[0m\u001b[0m\n\u001b[0m\u001b[0;32m   3271\u001b[0m             \u001b[0mres\u001b[0m \u001b[1;33m=\u001b[0m \u001b[0mself\u001b[0m\u001b[1;33m.\u001b[0m\u001b[0m_box_item_values\u001b[0m\u001b[1;33m(\u001b[0m\u001b[0mitem\u001b[0m\u001b[1;33m,\u001b[0m \u001b[0mvalues\u001b[0m\u001b[1;33m)\u001b[0m\u001b[1;33m\u001b[0m\u001b[1;33m\u001b[0m\u001b[0m\n\u001b[0;32m   3272\u001b[0m             \u001b[0mcache\u001b[0m\u001b[1;33m[\u001b[0m\u001b[0mitem\u001b[0m\u001b[1;33m]\u001b[0m \u001b[1;33m=\u001b[0m \u001b[0mres\u001b[0m\u001b[1;33m\u001b[0m\u001b[1;33m\u001b[0m\u001b[0m\n",
      "\u001b[1;32mP:\\Programs\\Anaconda3\\lib\\site-packages\\pandas\\core\\internals\\managers.py\u001b[0m in \u001b[0;36mget\u001b[1;34m(self, item)\u001b[0m\n\u001b[0;32m    947\u001b[0m \u001b[1;33m\u001b[0m\u001b[0m\n\u001b[0;32m    948\u001b[0m             \u001b[1;32mif\u001b[0m \u001b[1;32mnot\u001b[0m \u001b[0misna\u001b[0m\u001b[1;33m(\u001b[0m\u001b[0mitem\u001b[0m\u001b[1;33m)\u001b[0m\u001b[1;33m:\u001b[0m\u001b[1;33m\u001b[0m\u001b[1;33m\u001b[0m\u001b[0m\n\u001b[1;32m--> 949\u001b[1;33m                 \u001b[0mloc\u001b[0m \u001b[1;33m=\u001b[0m \u001b[0mself\u001b[0m\u001b[1;33m.\u001b[0m\u001b[0mitems\u001b[0m\u001b[1;33m.\u001b[0m\u001b[0mget_loc\u001b[0m\u001b[1;33m(\u001b[0m\u001b[0mitem\u001b[0m\u001b[1;33m)\u001b[0m\u001b[1;33m\u001b[0m\u001b[1;33m\u001b[0m\u001b[0m\n\u001b[0m\u001b[0;32m    950\u001b[0m             \u001b[1;32melse\u001b[0m\u001b[1;33m:\u001b[0m\u001b[1;33m\u001b[0m\u001b[1;33m\u001b[0m\u001b[0m\n\u001b[0;32m    951\u001b[0m                 \u001b[0mindexer\u001b[0m \u001b[1;33m=\u001b[0m \u001b[0mnp\u001b[0m\u001b[1;33m.\u001b[0m\u001b[0marange\u001b[0m\u001b[1;33m(\u001b[0m\u001b[0mlen\u001b[0m\u001b[1;33m(\u001b[0m\u001b[0mself\u001b[0m\u001b[1;33m.\u001b[0m\u001b[0mitems\u001b[0m\u001b[1;33m)\u001b[0m\u001b[1;33m)\u001b[0m\u001b[1;33m[\u001b[0m\u001b[0misna\u001b[0m\u001b[1;33m(\u001b[0m\u001b[0mself\u001b[0m\u001b[1;33m.\u001b[0m\u001b[0mitems\u001b[0m\u001b[1;33m)\u001b[0m\u001b[1;33m]\u001b[0m\u001b[1;33m\u001b[0m\u001b[1;33m\u001b[0m\u001b[0m\n",
      "\u001b[1;32mP:\\Programs\\Anaconda3\\lib\\site-packages\\pandas\\core\\indexes\\base.py\u001b[0m in \u001b[0;36mget_loc\u001b[1;34m(self, key, method, tolerance)\u001b[0m\n\u001b[0;32m   2897\u001b[0m                 \u001b[1;32mreturn\u001b[0m \u001b[0mself\u001b[0m\u001b[1;33m.\u001b[0m\u001b[0m_engine\u001b[0m\u001b[1;33m.\u001b[0m\u001b[0mget_loc\u001b[0m\u001b[1;33m(\u001b[0m\u001b[0mkey\u001b[0m\u001b[1;33m)\u001b[0m\u001b[1;33m\u001b[0m\u001b[1;33m\u001b[0m\u001b[0m\n\u001b[0;32m   2898\u001b[0m             \u001b[1;32mexcept\u001b[0m \u001b[0mKeyError\u001b[0m\u001b[1;33m:\u001b[0m\u001b[1;33m\u001b[0m\u001b[1;33m\u001b[0m\u001b[0m\n\u001b[1;32m-> 2899\u001b[1;33m                 \u001b[1;32mreturn\u001b[0m \u001b[0mself\u001b[0m\u001b[1;33m.\u001b[0m\u001b[0m_engine\u001b[0m\u001b[1;33m.\u001b[0m\u001b[0mget_loc\u001b[0m\u001b[1;33m(\u001b[0m\u001b[0mself\u001b[0m\u001b[1;33m.\u001b[0m\u001b[0m_maybe_cast_indexer\u001b[0m\u001b[1;33m(\u001b[0m\u001b[0mkey\u001b[0m\u001b[1;33m)\u001b[0m\u001b[1;33m)\u001b[0m\u001b[1;33m\u001b[0m\u001b[1;33m\u001b[0m\u001b[0m\n\u001b[0m\u001b[0;32m   2900\u001b[0m         \u001b[0mindexer\u001b[0m \u001b[1;33m=\u001b[0m \u001b[0mself\u001b[0m\u001b[1;33m.\u001b[0m\u001b[0mget_indexer\u001b[0m\u001b[1;33m(\u001b[0m\u001b[1;33m[\u001b[0m\u001b[0mkey\u001b[0m\u001b[1;33m]\u001b[0m\u001b[1;33m,\u001b[0m \u001b[0mmethod\u001b[0m\u001b[1;33m=\u001b[0m\u001b[0mmethod\u001b[0m\u001b[1;33m,\u001b[0m \u001b[0mtolerance\u001b[0m\u001b[1;33m=\u001b[0m\u001b[0mtolerance\u001b[0m\u001b[1;33m)\u001b[0m\u001b[1;33m\u001b[0m\u001b[1;33m\u001b[0m\u001b[0m\n\u001b[0;32m   2901\u001b[0m         \u001b[1;32mif\u001b[0m \u001b[0mindexer\u001b[0m\u001b[1;33m.\u001b[0m\u001b[0mndim\u001b[0m \u001b[1;33m>\u001b[0m \u001b[1;36m1\u001b[0m \u001b[1;32mor\u001b[0m \u001b[0mindexer\u001b[0m\u001b[1;33m.\u001b[0m\u001b[0msize\u001b[0m \u001b[1;33m>\u001b[0m \u001b[1;36m1\u001b[0m\u001b[1;33m:\u001b[0m\u001b[1;33m\u001b[0m\u001b[1;33m\u001b[0m\u001b[0m\n",
      "\u001b[1;32mpandas\\_libs\\index.pyx\u001b[0m in \u001b[0;36mpandas._libs.index.IndexEngine.get_loc\u001b[1;34m()\u001b[0m\n",
      "\u001b[1;32mpandas\\_libs\\index.pyx\u001b[0m in \u001b[0;36mpandas._libs.index.IndexEngine.get_loc\u001b[1;34m()\u001b[0m\n",
      "\u001b[1;32mpandas\\_libs\\hashtable_class_helper.pxi\u001b[0m in \u001b[0;36mpandas._libs.hashtable.PyObjectHashTable.get_item\u001b[1;34m()\u001b[0m\n",
      "\u001b[1;32mpandas\\_libs\\hashtable_class_helper.pxi\u001b[0m in \u001b[0;36mpandas._libs.hashtable.PyObjectHashTable.get_item\u001b[1;34m()\u001b[0m\n",
      "\u001b[1;31mKeyError\u001b[0m: 'sarake5'"
     ]
    }
   ],
   "source": [
    "muuttuja = df.at[df.index[-1], 'sarake5']\n",
    "erillinen_muuttuja = df.at[df.index[-1], 'sarake3'].astype(str)\n",
    "summa = muuttuja + erillinen_muuttuja\n",
    "summa = summa[:-2]\n",
    "summa = re.sub(r'[.]', '', summa)\n",
    "print(summa)"
   ]
  }
 ],
 "metadata": {
  "kernelspec": {
   "display_name": "Python 3",
   "language": "python",
   "name": "python3"
  },
  "language_info": {
   "codemirror_mode": {
    "name": "ipython",
    "version": 3
   },
   "file_extension": ".py",
   "mimetype": "text/x-python",
   "name": "python",
   "nbconvert_exporter": "python",
   "pygments_lexer": "ipython3",
   "version": "3.7.4"
  }
 },
 "nbformat": 4,
 "nbformat_minor": 4
}
