{
 "cells": [
  {
   "cell_type": "markdown",
   "metadata": {},
   "source": [
    "## Pandas-tehtävät"
   ]
  },
  {
   "cell_type": "markdown",
   "metadata": {},
   "source": [
    "#### Lisää tarvittavat kirjastot ja lue `testidata.csv` niminen tiedosto DataFrame-objektiin"
   ]
  },
  {
   "cell_type": "code",
   "execution_count": 1900,
   "metadata": {},
   "outputs": [],
   "source": [
    "import re\n",
    "import pandas as pd\n",
    "\n",
    "df = pd.read_csv('./testidata.csv', sep = ',', decimal='.', encoding='latin_1')"
   ]
  },
  {
   "cell_type": "markdown",
   "metadata": {},
   "source": [
    "#### Tulosta DataFrame-objektin viisi viimeistä riviä"
   ]
  },
  {
   "cell_type": "code",
   "execution_count": 1901,
   "metadata": {},
   "outputs": [
    {
     "name": "stdout",
     "output_type": "stream",
     "text": [
      "    Unnamed: 0   sarake1   sarake2   sarake3\n",
      "20          20  0.300589  0.455980  0.292225\n",
      "21          21  0.859970  0.346539  0.364629\n",
      "22          22  0.842364  0.093485  0.662066\n",
      "23          23  0.781693  0.573344  0.815692\n",
      "24          24  0.788949  0.945625  0.852690\n"
     ]
    }
   ],
   "source": [
    "print(df.tail(5))"
   ]
  },
  {
   "cell_type": "markdown",
   "metadata": {},
   "source": [
    "#### Tulosta datan sarakkeiden otsikot list-objektina"
   ]
  },
  {
   "cell_type": "code",
   "execution_count": 1902,
   "metadata": {},
   "outputs": [
    {
     "name": "stdout",
     "output_type": "stream",
     "text": [
      "['Unnamed: 0', 'sarake1', 'sarake2', 'sarake3']\n"
     ]
    }
   ],
   "source": [
    "print(df.columns.tolist())"
   ]
  },
  {
   "cell_type": "markdown",
   "metadata": {},
   "source": [
    "#### Tulosta `sarake2`:n pituus"
   ]
  },
  {
   "cell_type": "code",
   "execution_count": 1903,
   "metadata": {},
   "outputs": [
    {
     "name": "stdout",
     "output_type": "stream",
     "text": [
      "25\n"
     ]
    }
   ],
   "source": [
    "print(df.sarake2.count())"
   ]
  },
  {
   "cell_type": "markdown",
   "metadata": {},
   "source": [
    "#### Tulosta datan ensimmäinen rivin tiedot"
   ]
  },
  {
   "cell_type": "code",
   "execution_count": 1904,
   "metadata": {},
   "outputs": [
    {
     "name": "stdout",
     "output_type": "stream",
     "text": [
      "   Unnamed: 0   sarake1   sarake2   sarake3\n",
      "0           0  0.319219  0.380058  0.919389\n"
     ]
    }
   ],
   "source": [
    "print(df.head(1))"
   ]
  },
  {
   "cell_type": "markdown",
   "metadata": {},
   "source": [
    "#### Pudota datasta  `Unnamed: 0` niminen sarake ja todenna lopputulos valitsemallasi tavalla"
   ]
  },
  {
   "cell_type": "code",
   "execution_count": 1905,
   "metadata": {},
   "outputs": [
    {
     "name": "stdout",
     "output_type": "stream",
     "text": [
      "    sarake1   sarake2   sarake3\n",
      "0  0.319219  0.380058  0.919389\n"
     ]
    }
   ],
   "source": [
    "del df['Unnamed: 0']\n",
    "print(df.head(1))"
   ]
  },
  {
   "cell_type": "markdown",
   "metadata": {},
   "source": [
    "#### Poista rivit, jos sarakkeessa `sarake1` esiintyy arvo 0.2 tai pienempi"
   ]
  },
  {
   "cell_type": "code",
   "execution_count": 1906,
   "metadata": {},
   "outputs": [],
   "source": [
    "df = df[df['sarake1']>0.2]"
   ]
  },
  {
   "cell_type": "markdown",
   "metadata": {},
   "source": [
    "#### Tulosta `sarake1` sarakkeen minimi- ja maksimiarvo"
   ]
  },
  {
   "cell_type": "code",
   "execution_count": 1907,
   "metadata": {},
   "outputs": [
    {
     "name": "stdout",
     "output_type": "stream",
     "text": [
      "0.2731929006731526\n"
     ]
    }
   ],
   "source": [
    "print(df.sarake1.min())"
   ]
  },
  {
   "cell_type": "code",
   "execution_count": 1908,
   "metadata": {},
   "outputs": [
    {
     "name": "stdout",
     "output_type": "stream",
     "text": [
      "0.9358745961778226\n"
     ]
    }
   ],
   "source": [
    "print(df.sarake1.max())"
   ]
  },
  {
   "cell_type": "markdown",
   "metadata": {},
   "source": [
    "#### Tee ensimmäisen rivin ensimmäisen sarakkeen arvosta nan"
   ]
  },
  {
   "cell_type": "code",
   "execution_count": 1909,
   "metadata": {},
   "outputs": [],
   "source": [
    " #df.at[0, 'sarake1'] = None\n",
    "df.iat[0,0] = None"
   ]
  },
  {
   "cell_type": "markdown",
   "metadata": {},
   "source": [
    "#### Pudota rivit, joissa esiintyy nan-arvo"
   ]
  },
  {
   "cell_type": "code",
   "execution_count": 1910,
   "metadata": {},
   "outputs": [
    {
     "name": "stdout",
     "output_type": "stream",
     "text": [
      "   sarake1   sarake2   sarake3\n",
      "0      NaN  0.380058  0.919389\n",
      "    sarake1   sarake2   sarake3\n",
      "1  0.922251  0.490721  0.133932\n"
     ]
    }
   ],
   "source": [
    "print(df.head(1))\n",
    "df.dropna(inplace=True)\n",
    "print(df.head(1))"
   ]
  },
  {
   "cell_type": "markdown",
   "metadata": {},
   "source": [
    "#### Muuta viidennen ja kymmenennen rivin kaikiksi arvoiksi nan"
   ]
  },
  {
   "cell_type": "code",
   "execution_count": 1911,
   "metadata": {},
   "outputs": [
    {
     "name": "stdout",
     "output_type": "stream",
     "text": [
      "     sarake1   sarake2   sarake3\n",
      "1   0.922251  0.490721  0.133932\n",
      "3   0.363707  0.878349  0.485700\n",
      "6   0.323134  0.036466  0.186775\n",
      "7   0.467610  0.850993  0.377558\n",
      "8        NaN       NaN       NaN\n",
      "9   0.733485  0.591996  0.658924\n",
      "10  0.641628  0.251886  0.274987\n",
      "12  0.319906  0.489200  0.990319\n",
      "13  0.780267  0.458454  0.053428\n",
      "15       NaN       NaN       NaN\n",
      "17  0.273193  0.300307  0.768270\n",
      "18  0.467060  0.225161  0.911570\n",
      "20  0.300589  0.455980  0.292225\n",
      "21  0.859970  0.346539  0.364629\n",
      "22  0.842364  0.093485  0.662066\n",
      "23  0.781693  0.573344  0.815692\n",
      "24  0.788949  0.945625  0.852690\n"
     ]
    }
   ],
   "source": [
    "#df.iloc[0::5, :] = None\n",
    "df.iloc[4, :] = None\n",
    "df.iloc[9, :] = None\n",
    "print(df)"
   ]
  },
  {
   "cell_type": "markdown",
   "metadata": {},
   "source": [
    "#### Tulosta nan-arvojen määrä jokaisesta sarakkeesta DataFrame-objektista"
   ]
  },
  {
   "cell_type": "code",
   "execution_count": 1912,
   "metadata": {},
   "outputs": [
    {
     "data": {
      "text/plain": [
       "sarake1    2\n",
       "sarake2    2\n",
       "sarake3    2\n",
       "dtype: int64"
      ]
     },
     "execution_count": 1912,
     "metadata": {},
     "output_type": "execute_result"
    }
   ],
   "source": [
    "df.isna().sum()"
   ]
  },
  {
   "cell_type": "markdown",
   "metadata": {},
   "source": [
    "#### Täytä edellä tehdyt nan-arvot lineaarisella interpolaatiolla"
   ]
  },
  {
   "cell_type": "code",
   "execution_count": 1913,
   "metadata": {},
   "outputs": [
    {
     "name": "stdout",
     "output_type": "stream",
     "text": [
      "     sarake1   sarake2   sarake3\n",
      "1   0.922251  0.490721  0.133932\n",
      "3   0.363707  0.878349  0.485700\n",
      "6   0.323134  0.036466  0.186775\n",
      "7   0.467610  0.850993  0.377558\n",
      "8   0.600548  0.721495  0.518241\n",
      "9   0.733485  0.591996  0.658924\n",
      "10  0.641628  0.251886  0.274987\n",
      "12  0.319906  0.489200  0.990319\n",
      "13  0.780267  0.458454  0.053428\n",
      "15  0.526730  0.379381  0.410849\n",
      "17  0.273193  0.300307  0.768270\n",
      "18  0.467060  0.225161  0.911570\n",
      "20  0.300589  0.455980  0.292225\n",
      "21  0.859970  0.346539  0.364629\n",
      "22  0.842364  0.093485  0.662066\n",
      "23  0.781693  0.573344  0.815692\n",
      "24  0.788949  0.945625  0.852690\n"
     ]
    }
   ],
   "source": [
    "df.interpolate(inplace=True)\n",
    "print(df)"
   ]
  },
  {
   "cell_type": "markdown",
   "metadata": {},
   "source": [
    "#### Vaihda `sarake1`:n viimeiseksi arvoksi 94 ja `sarake3`:n viimeiseksi arvoksi 45"
   ]
  },
  {
   "cell_type": "code",
   "execution_count": 1914,
   "metadata": {},
   "outputs": [
    {
     "name": "stdout",
     "output_type": "stream",
     "text": [
      "    sarake1   sarake2  sarake3\n",
      "24     94.0  0.945625     45.0\n"
     ]
    }
   ],
   "source": [
    "df.at[df.index[-1], 'sarake1'] = 94\n",
    "df.at[df.index[-1], 'sarake3'] = 45\n",
    "print(df.tail(1))"
   ]
  },
  {
   "cell_type": "markdown",
   "metadata": {},
   "source": [
    "#### Lisää uusi sarake DataFrame-objektiin (`sarake4`), joka koostuu sarakkeiden `sarake1` ja `sarake3` summasta"
   ]
  },
  {
   "cell_type": "code",
   "execution_count": 1915,
   "metadata": {},
   "outputs": [
    {
     "name": "stdout",
     "output_type": "stream",
     "text": [
      "      sarake1   sarake2    sarake3     sarake4\n",
      "1    0.922251  0.490721   0.133932    1.056182\n",
      "3    0.363707  0.878349   0.485700    0.849407\n",
      "6    0.323134  0.036466   0.186775    0.509909\n",
      "7    0.467610  0.850993   0.377558    0.845168\n",
      "8    0.600548  0.721495   0.518241    1.118788\n",
      "9    0.733485  0.591996   0.658924    1.392409\n",
      "10   0.641628  0.251886   0.274987    0.916615\n",
      "12   0.319906  0.489200   0.990319    1.310225\n",
      "13   0.780267  0.458454   0.053428    0.833695\n",
      "15   0.526730  0.379381   0.410849    0.937579\n",
      "17   0.273193  0.300307   0.768270    1.041463\n",
      "18   0.467060  0.225161   0.911570    1.378630\n",
      "20   0.300589  0.455980   0.292225    0.592814\n",
      "21   0.859970  0.346539   0.364629    1.224599\n",
      "22   0.842364  0.093485   0.662066    1.504430\n",
      "23   0.781693  0.573344   0.815692    1.597386\n",
      "24  94.000000  0.945625  45.000000  139.000000\n"
     ]
    }
   ],
   "source": [
    "df['sarake4']=df['sarake1']+df['sarake3']\n",
    "print(df)"
   ]
  },
  {
   "cell_type": "markdown",
   "metadata": {},
   "source": [
    "#### Resetoi DataFrame-objektin indeksi ja tulosta rivien määrä"
   ]
  },
  {
   "cell_type": "code",
   "execution_count": 1916,
   "metadata": {},
   "outputs": [
    {
     "data": {
      "text/plain": [
       "17"
      ]
     },
     "execution_count": 1916,
     "metadata": {},
     "output_type": "execute_result"
    }
   ],
   "source": [
    "df.reset_index(drop=True, inplace=True)\n",
    "df.shape[0]"
   ]
  },
  {
   "cell_type": "markdown",
   "metadata": {},
   "source": [
    "#### Tee DataFrame-objektin mittainen aikasarjadata haluamallasi aikavälillä ja tee siitä indeksisarake"
   ]
  },
  {
   "cell_type": "code",
   "execution_count": 1917,
   "metadata": {},
   "outputs": [
    {
     "name": "stdout",
     "output_type": "stream",
     "text": [
      "                       sarake1   sarake2    sarake3     sarake4\n",
      "time                                                           \n",
      "2020-08-25 00:00:00   0.922251  0.490721   0.133932    1.056182\n",
      "2020-08-25 01:00:00   0.363707  0.878349   0.485700    0.849407\n",
      "2020-08-25 02:00:00   0.323134  0.036466   0.186775    0.509909\n",
      "2020-08-25 03:00:00   0.467610  0.850993   0.377558    0.845168\n",
      "2020-08-25 04:00:00   0.600548  0.721495   0.518241    1.118788\n",
      "2020-08-25 05:00:00   0.733485  0.591996   0.658924    1.392409\n",
      "2020-08-25 06:00:00   0.641628  0.251886   0.274987    0.916615\n",
      "2020-08-25 07:00:00   0.319906  0.489200   0.990319    1.310225\n",
      "2020-08-25 08:00:00   0.780267  0.458454   0.053428    0.833695\n",
      "2020-08-25 09:00:00   0.526730  0.379381   0.410849    0.937579\n",
      "2020-08-25 10:00:00   0.273193  0.300307   0.768270    1.041463\n",
      "2020-08-25 11:00:00   0.467060  0.225161   0.911570    1.378630\n",
      "2020-08-25 12:00:00   0.300589  0.455980   0.292225    0.592814\n",
      "2020-08-25 13:00:00   0.859970  0.346539   0.364629    1.224599\n",
      "2020-08-25 14:00:00   0.842364  0.093485   0.662066    1.504430\n",
      "2020-08-25 15:00:00   0.781693  0.573344   0.815692    1.597386\n",
      "2020-08-25 16:00:00  94.000000  0.945625  45.000000  139.000000\n"
     ]
    }
   ],
   "source": [
    "#size = len(df.index)\n",
    "size = df.shape[0]\n",
    "time_serie = pd.date_range(start='8/25/2020', periods=size, freq='H')\n",
    "df['time'] = time_serie\n",
    "df.set_index('time', inplace=True)\n",
    "print(df)\n"
   ]
  },
  {
   "cell_type": "markdown",
   "metadata": {},
   "source": [
    "#### Muuta `sarake1` kaikki arvot merkkijonoiksi, joissa jokainen nolla on korvattu isolla 'ND'-kirjainyhdistelmällä."
   ]
  },
  {
   "cell_type": "code",
   "execution_count": 1918,
   "metadata": {},
   "outputs": [
    {
     "name": "stdout",
     "output_type": "stream",
     "text": [
      "time\n",
      "2020-08-25 00:00:00      ND.92225ND592ND455354\n",
      "2020-08-25 01:00:00       ND.3637ND65716836567\n",
      "2020-08-25 02:00:00       ND.32313386814ND7583\n",
      "2020-08-25 03:00:00     ND.4676ND99556ND15ND96\n",
      "2020-08-25 04:00:00     ND.6NDND54763516866ND7\n",
      "2020-08-25 05:00:00        ND.7334853147358118\n",
      "2020-08-25 06:00:00       ND.641628229ND317612\n",
      "2020-08-25 07:00:00    ND.3199ND554258ND25ND83\n",
      "2020-08-25 08:00:00       ND.78ND2672238818178\n",
      "2020-08-25 09:00:00      ND.52673NDND622774852\n",
      "2020-08-25 10:00:00      ND.2731929NDND6731526\n",
      "2020-08-25 11:00:00    ND.467ND6NDND4ND1299349\n",
      "2020-08-25 12:00:00    ND.3NDND5888788521NDND1\n",
      "2020-08-25 13:00:00      ND.8599699ND1ND91ND25\n",
      "2020-08-25 14:00:00       ND.8423644152934ND61\n",
      "2020-08-25 15:00:00       ND.78169332392ND8187\n",
      "2020-08-25 16:00:00                      94.ND\n",
      "Name: sarake1, dtype: object\n"
     ]
    }
   ],
   "source": [
    "df.sarake1 = df.sarake1.astype(str).str.replace('0','ND')\n",
    "print(df.sarake1)"
   ]
  },
  {
   "cell_type": "markdown",
   "metadata": {},
   "source": [
    "#### Tee DataFrame-objektista kopio, jonka sarakkeiden nimet on muutettu seuraaviksi : `sarake5`, `sarake6`, `sarake7`, `sarake8`. Tämän jälkeen tee yksi iso DataFrame-objekti, joka koostuu alkuperäisestä DataFramesta sekä kopiosta niin, että ne on lisätty vierekkäin.\n",
    "\n",
    "\n",
    "| sarake1        | sarake2           | sarake3  | sarake4 | sarake5      | sarake6 | sarake7 | sarake8 |\n",
    "| ------------- |:-------------:| -----:| ------------- |:-------------:| -----:|-----:|-----:|\n",
    "| 0.1      | 0.2 | 0.3 | ... | ...  | ... | ... | ... |"
   ]
  },
  {
   "cell_type": "code",
   "execution_count": 1919,
   "metadata": {},
   "outputs": [
    {
     "name": "stdout",
     "output_type": "stream",
     "text": [
      "                                     sarake1   sarake2    sarake3     sarake4  \\\n",
      "time                                                                            \n",
      "2020-08-25 00:00:00    ND.92225ND592ND455354  0.490721   0.133932    1.056182   \n",
      "2020-08-25 01:00:00     ND.3637ND65716836567  0.878349   0.485700    0.849407   \n",
      "2020-08-25 02:00:00     ND.32313386814ND7583  0.036466   0.186775    0.509909   \n",
      "2020-08-25 03:00:00   ND.4676ND99556ND15ND96  0.850993   0.377558    0.845168   \n",
      "2020-08-25 04:00:00   ND.6NDND54763516866ND7  0.721495   0.518241    1.118788   \n",
      "2020-08-25 05:00:00      ND.7334853147358118  0.591996   0.658924    1.392409   \n",
      "2020-08-25 06:00:00     ND.641628229ND317612  0.251886   0.274987    0.916615   \n",
      "2020-08-25 07:00:00  ND.3199ND554258ND25ND83  0.489200   0.990319    1.310225   \n",
      "2020-08-25 08:00:00     ND.78ND2672238818178  0.458454   0.053428    0.833695   \n",
      "2020-08-25 09:00:00    ND.52673NDND622774852  0.379381   0.410849    0.937579   \n",
      "2020-08-25 10:00:00    ND.2731929NDND6731526  0.300307   0.768270    1.041463   \n",
      "2020-08-25 11:00:00  ND.467ND6NDND4ND1299349  0.225161   0.911570    1.378630   \n",
      "2020-08-25 12:00:00  ND.3NDND5888788521NDND1  0.455980   0.292225    0.592814   \n",
      "2020-08-25 13:00:00    ND.8599699ND1ND91ND25  0.346539   0.364629    1.224599   \n",
      "2020-08-25 14:00:00     ND.8423644152934ND61  0.093485   0.662066    1.504430   \n",
      "2020-08-25 15:00:00     ND.78169332392ND8187  0.573344   0.815692    1.597386   \n",
      "2020-08-25 16:00:00                    94.ND  0.945625  45.000000  139.000000   \n",
      "\n",
      "                                     sarake5   sarake6    sarake7     sarake8  \n",
      "time                                                                           \n",
      "2020-08-25 00:00:00    ND.92225ND592ND455354  0.490721   0.133932    1.056182  \n",
      "2020-08-25 01:00:00     ND.3637ND65716836567  0.878349   0.485700    0.849407  \n",
      "2020-08-25 02:00:00     ND.32313386814ND7583  0.036466   0.186775    0.509909  \n",
      "2020-08-25 03:00:00   ND.4676ND99556ND15ND96  0.850993   0.377558    0.845168  \n",
      "2020-08-25 04:00:00   ND.6NDND54763516866ND7  0.721495   0.518241    1.118788  \n",
      "2020-08-25 05:00:00      ND.7334853147358118  0.591996   0.658924    1.392409  \n",
      "2020-08-25 06:00:00     ND.641628229ND317612  0.251886   0.274987    0.916615  \n",
      "2020-08-25 07:00:00  ND.3199ND554258ND25ND83  0.489200   0.990319    1.310225  \n",
      "2020-08-25 08:00:00     ND.78ND2672238818178  0.458454   0.053428    0.833695  \n",
      "2020-08-25 09:00:00    ND.52673NDND622774852  0.379381   0.410849    0.937579  \n",
      "2020-08-25 10:00:00    ND.2731929NDND6731526  0.300307   0.768270    1.041463  \n",
      "2020-08-25 11:00:00  ND.467ND6NDND4ND1299349  0.225161   0.911570    1.378630  \n",
      "2020-08-25 12:00:00  ND.3NDND5888788521NDND1  0.455980   0.292225    0.592814  \n",
      "2020-08-25 13:00:00    ND.8599699ND1ND91ND25  0.346539   0.364629    1.224599  \n",
      "2020-08-25 14:00:00     ND.8423644152934ND61  0.093485   0.662066    1.504430  \n",
      "2020-08-25 15:00:00     ND.78169332392ND8187  0.573344   0.815692    1.597386  \n",
      "2020-08-25 16:00:00                    94.ND  0.945625  45.000000  139.000000  \n"
     ]
    }
   ],
   "source": [
    "sarakkeet = ['sarake5', 'sarake6', 'sarake7', 'sarake8']\n",
    "df[sarakkeet] = df.copy(deep=True)\n",
    "print(df)"
   ]
  },
  {
   "cell_type": "markdown",
   "metadata": {},
   "source": [
    "Sijoita `sarake5`:n viimeinen arvo muuttujaan sekä `sarake3`:n viimeinen arvo erilliseen muuttujaan juuri tehdystä DataFrame-objektista merkkijonomuodossa. Summaa kyseiset muuttujat merkkijonona sekä poista kaksi viimeistä merkkiä lopputuloksesta. Lopuksi poista kaikki pisteet `.`."
   ]
  },
  {
   "cell_type": "code",
   "execution_count": 1920,
   "metadata": {},
   "outputs": [
    {
     "name": "stdout",
     "output_type": "stream",
     "text": [
      "94ND45\n"
     ]
    }
   ],
   "source": [
    "muuttuja = df.at[df.index[-1], 'sarake5']\n",
    "erillinen_muuttuja = df.at[df.index[-1], 'sarake3'].astype(str)\n",
    "summa = muuttuja + erillinen_muuttuja\n",
    "summa = summa[:-2]\n",
    "summa = re.sub(r'[.]', '', summa)\n",
    "print(summa)"
   ]
  }
 ],
 "metadata": {
  "kernelspec": {
   "display_name": "Python 3",
   "language": "python",
   "name": "python3"
  },
  "language_info": {
   "codemirror_mode": {
    "name": "ipython",
    "version": 3
   },
   "file_extension": ".py",
   "mimetype": "text/x-python",
   "name": "python",
   "nbconvert_exporter": "python",
   "pygments_lexer": "ipython3",
   "version": "3.7.4"
  }
 },
 "nbformat": 4,
 "nbformat_minor": 4
}
