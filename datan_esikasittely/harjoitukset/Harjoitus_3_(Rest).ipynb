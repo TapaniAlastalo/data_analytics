{
 "cells": [
  {
   "cell_type": "markdown",
   "metadata": {},
   "source": [
    "## Rest-tehtävät"
   ]
  },
  {
   "cell_type": "markdown",
   "metadata": {},
   "source": [
    "Ensimmäisessä tehtäväosiossa rajapintaa pääkaupunkiseudun palveluista. Tämä rajapinta on myös käytössä esimerkeissä.\n",
    "\n",
    "Tietoa palvelusta löytyy: https://www.hel.fi/palvelukarttaws/restpages/palvelurekisteri.html\n",
    "\n",
    "---\n",
    "\n",
    "Toisessa tehtäväosiossa on käytössä Digitrafficin rest-rajapinta, johon on tarkoitus soveltaa osaamista. \n",
    "\n",
    "Tietoa palvelusta löytyy: https://www.digitraffic.fi/rautatieliikenne/#dataa-tukevat-rajapinnat--ty%C3%B6kalut"
   ]
  },
  {
   "cell_type": "markdown",
   "metadata": {},
   "source": [
    "### Pääkaupunkiseudun palveluiden rajapinnan tehtävät"
   ]
  },
  {
   "cell_type": "markdown",
   "metadata": {},
   "source": [
    "Url-osoite rajapinnalle: http://www.hel.fi/palvelukarttaws/rest/vpalvelurekisteri"
   ]
  },
  {
   "cell_type": "markdown",
   "metadata": {},
   "source": [
    "#### Lisää käytettävät kirjastot ja muodosta rajapinnan url-osoite päätteellä `/description/`"
   ]
  },
  {
   "cell_type": "code",
   "execution_count": 439,
   "metadata": {},
   "outputs": [],
   "source": [
    "import requests\n",
    "\n",
    "endpoint = \"/description\"\n",
    "id = \"\"\n",
    "url = \"http://www.hel.fi/palvelukarttaws/rest/vpalvelurekisteri{0}/{1}\".format(endpoint, id)"
   ]
  },
  {
   "cell_type": "markdown",
   "metadata": {},
   "source": [
    "#### Tee get-pyyntö osoitteeseen ja varmista, että haku onnistuu ja vastauskoodina on 200"
   ]
  },
  {
   "cell_type": "code",
   "execution_count": 440,
   "metadata": {},
   "outputs": [
    {
     "data": {
      "text/plain": [
       "200"
      ]
     },
     "execution_count": 440,
     "metadata": {},
     "output_type": "execute_result"
    }
   ],
   "source": [
    "req = requests.get(url=url)\n",
    "req.status_code"
   ]
  },
  {
   "cell_type": "markdown",
   "metadata": {},
   "source": [
    "#### Tallenna vastaus muuttujaan listana, joiden elementit ovat json-muodossa"
   ]
  },
  {
   "cell_type": "code",
   "execution_count": 441,
   "metadata": {},
   "outputs": [],
   "source": [
    "data_from_api = req.json()\n",
    "#data_from_api"
   ]
  },
  {
   "cell_type": "markdown",
   "metadata": {},
   "source": [
    "#### Valitse list-objektista viimeisin json-tietue, jonka `service_id`-avaimen arvo on 10473 (10473 arvoja on kolme) ja sijoita kyseisen json-tietueen `id`-avaimen arvo muuttujaan."
   ]
  },
  {
   "cell_type": "code",
   "execution_count": 442,
   "metadata": {},
   "outputs": [],
   "source": [
    "SERVICE_ID = 10473\n",
    "for data in data_from_api:\n",
    "    service_id = data[\"service_id\"]\n",
    "    if service_id == SERVICE_ID:\n",
    "        id = data[\"id\"]\n",
    "        #for key, value in data.items():\n",
    "        #    print(key, \":\", value)\n",
    "        "
   ]
  },
  {
   "cell_type": "markdown",
   "metadata": {},
   "source": [
    "#### Tee uusi get-pyyntö samaan osoitteeseen kuin aiemmin (myös päätepiste pysyy samana), mutta ota edellisessä kohdassa valittu muuttuja (muuttuja joka sisältää `id`:n arvon) huomioon pyynnössä"
   ]
  },
  {
   "cell_type": "code",
   "execution_count": 443,
   "metadata": {},
   "outputs": [],
   "source": [
    "url = \"http://www.hel.fi/palvelukarttaws/rest/vpalvelurekisteri{0}/{1}\".format(endpoint, id)#\n",
    "req = requests.get(url=url)\n",
    "\n",
    "if req.status_code != 200:\n",
    "    print(req.status_code)    \n",
    "else:\n",
    "    title_from_data = \"\"\n",
    "    data_from_api = req.json()\n",
    "        \n",
    "    #for key, value in data_from_api.items():\n",
    "        #print(key, \":\", value)"
   ]
  },
  {
   "cell_type": "markdown",
   "metadata": {},
   "source": [
    "#### Tulosta vastauksesta `title`-avaimen arvo"
   ]
  },
  {
   "cell_type": "code",
   "execution_count": 444,
   "metadata": {},
   "outputs": [
    {
     "name": "stdout",
     "output_type": "stream",
     "text": [
      "Itämerihaaste\n"
     ]
    }
   ],
   "source": [
    "    print(data_from_api[\"title\"])"
   ]
  },
  {
   "cell_type": "markdown",
   "metadata": {},
   "source": [
    "---"
   ]
  },
  {
   "cell_type": "markdown",
   "metadata": {},
   "source": [
    "### Digitrafficin rajapinnan tehtävät"
   ]
  },
  {
   "cell_type": "markdown",
   "metadata": {},
   "source": [
    "#### Hae Digitrafficin rajapinnasta palvelun ohjeiden mukaan tiedot junalle päivältä 06.06.2018, jonka numero on 1"
   ]
  },
  {
   "cell_type": "code",
   "execution_count": 445,
   "metadata": {},
   "outputs": [
    {
     "name": "stdout",
     "output_type": "stream",
     "text": [
      "200\n"
     ]
    }
   ],
   "source": [
    "#https://rata.digitraffic.fi/api/v1/trains/2020-06-06/1\n",
    "date = \"2018-06-06\"\n",
    "train = \"1\"\n",
    "url = \"https://rata.digitraffic.fi/api/v1/trains/{0}/{1}\".format(date, train)\n",
    "\n",
    "req = requests.get(url=url)\n",
    "\n",
    "if req.status_code != 200:\n",
    "    print(req.status_code)    \n",
    "else:\n",
    "    print(req.status_code)    "
   ]
  },
  {
   "cell_type": "markdown",
   "metadata": {},
   "source": [
    "#### Valitse edellisen get-pyynnön kaikki json-objektit, jos yksikin `scheduledTime`-avaimen arvo on ennen aikaleimaa '2018-06-06T06:00:00.000Z'."
   ]
  },
  {
   "cell_type": "code",
   "execution_count": 446,
   "metadata": {},
   "outputs": [
    {
     "name": "stdout",
     "output_type": "stream",
     "text": [
      "2018-06-06 06:00:00+00:00\n"
     ]
    }
   ],
   "source": [
    "    import pandas as pd\n",
    "    \n",
    "    time_limit = pd.Timestamp('2018-06-06T06:00:00.000Z')\n",
    "    print(time_limit)\n",
    "    wanted_parent_key = 'timeTableRows'\n",
    "    wanted_key = 'scheduledTime'\n",
    "    \n",
    "    json_data = req.json()\n",
    "    found = False\n",
    "    json_d = \"{}\"\n",
    "    for data in json_data:\n",
    "        timeTableDataList = data['timeTableRows']\n",
    "        json_d = timeTableDataList\n",
    "        for timeTableData in timeTableDataList:            \n",
    "            time = pd.Timestamp(timeTableData[wanted_key])\n",
    "            if(time < time_limit):\n",
    "                found = True       \n",
    "            #print(\"t2\")\n",
    "            #for key, value in timeTableData.items():\n",
    "                #if key == wanted_key:\n",
    "                    #print(key, \":\", value)\n",
    "                    \n",
    "    \n",
    "        "
   ]
  },
  {
   "cell_type": "markdown",
   "metadata": {},
   "source": [
    "#### Muodosta DataFrame haetusta datasta, jos ylläoleva ehto täsmää\n",
    "\n",
    "| cancelled   | commuterLineID   | departureDate   | operatorShortCode   | operatorUICCode   | runningCurrently   | timeTableRows   | timetableAcceptanceDate   | timetableType   | trainCategory   | trainNumber   | trainType   | version   |\n",
    "| ------------- | ------------- | ------------- | ------------- | ------------- | ------------- | ------------- | ------------- | ------------- | ------------- | ------------- | ------------- | ------------- |\n"
   ]
  },
  {
   "cell_type": "code",
   "execution_count": 447,
   "metadata": {},
   "outputs": [],
   "source": [
    "import json\n",
    "\n",
    "if found == True:\n",
    "    df = pd.read_json(json.dumps(json_data))\n",
    "    #df = pd.read_json(json.dumps(json_data[0]))\n",
    "    "
   ]
  },
  {
   "cell_type": "markdown",
   "metadata": {},
   "source": [
    "#### Tulosta ainoa rivi generoidusta DataFrame-objektista, jos sellainen muodostetaan."
   ]
  },
  {
   "cell_type": "code",
   "execution_count": 448,
   "metadata": {},
   "outputs": [
    {
     "name": "stdout",
     "output_type": "stream",
     "text": [
      "   trainNumber departureDate  operatorUICCode operatorShortCode trainType  \\\n",
      "0            1    2018-06-06               10                vr        IC   \n",
      "\n",
      "   trainCategory commuterLineID  runningCurrently  cancelled       version  \\\n",
      "0  Long-distance                            False      False  270528660210   \n",
      "\n",
      "  timetableType   timetableAcceptanceDate  \\\n",
      "0       REGULAR  2018-03-05T10:02:10.000Z   \n",
      "\n",
      "                                       timeTableRows  \n",
      "0  [{'stationShortCode': 'HKI', 'stationUICCode':...  \n"
     ]
    }
   ],
   "source": [
    "print(df)"
   ]
  }
 ],
 "metadata": {
  "kernelspec": {
   "display_name": "Python 3",
   "language": "python",
   "name": "python3"
  },
  "language_info": {
   "codemirror_mode": {
    "name": "ipython",
    "version": 3
   },
   "file_extension": ".py",
   "mimetype": "text/x-python",
   "name": "python",
   "nbconvert_exporter": "python",
   "pygments_lexer": "ipython3",
   "version": "3.7.4"
  }
 },
 "nbformat": 4,
 "nbformat_minor": 4
}
