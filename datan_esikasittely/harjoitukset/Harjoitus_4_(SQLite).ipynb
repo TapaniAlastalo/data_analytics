{
 "cells": [
  {
   "cell_type": "markdown",
   "metadata": {},
   "source": [
    "## SQLite-tehtävät"
   ]
  },
  {
   "cell_type": "markdown",
   "metadata": {},
   "source": [
    "Lisää tarvittavat kirjastot ja tee `testi.db` niminen tietokanta (SQLite3)"
   ]
  },
  {
   "cell_type": "code",
   "execution_count": 38,
   "metadata": {},
   "outputs": [],
   "source": [
    "import sqlite3\n",
    "conn = sqlite3.connect('testi.db')"
   ]
  },
  {
   "cell_type": "markdown",
   "metadata": {},
   "source": [
    "Luo yhteys tietokantaan"
   ]
  },
  {
   "cell_type": "code",
   "execution_count": 39,
   "metadata": {},
   "outputs": [],
   "source": [
    "c = conn.cursor()"
   ]
  },
  {
   "cell_type": "markdown",
   "metadata": {},
   "source": [
    "Tee tietokantaan seuraavanlainen taulu, jonka nimi on `henkilotaulu`:\n",
    "    \n",
    "| Nimi        | Ika           | Kengankoko  |\n",
    "| ------------- |-------------| -----|\n",
    "| Teppo      | 88 | 47 |\n",
    "| Matti      | 34     | 39 |\n",
    "| Ilona | 41      |    36 |\n",
    "| Sonja | 32      |    37 |"
   ]
  },
  {
   "cell_type": "code",
   "execution_count": 40,
   "metadata": {},
   "outputs": [],
   "source": [
    "drop_command = '''DROP TABLE IF EXISTS henkilotaulu;'''\n",
    "create_command = '''CREATE TABLE IF NOT EXISTS henkilotaulu\n",
    "             (Nimi, Ika, Kengankoko)'''\n",
    "\n",
    "c.execute(drop_command)\n",
    "c.execute(create_command)\n",
    "\n",
    "\n",
    "example_data = [(\"Teppo\", 88, 47), (\"Matti\", 34, 39), (\"Ilona\", 41, 36), (\"Sonja\", 32, 37)]\n",
    "for data_row in example_data:\n",
    "    c.execute('''INSERT INTO henkilotaulu VALUES {0}'''.format(data_row))\n",
    "\n",
    "# Tallennetaan muutkset\n",
    "conn.commit()"
   ]
  },
  {
   "cell_type": "markdown",
   "metadata": {},
   "source": [
    "Kun Taulu on tehty, niin hae taulu Pandasin DataFrame-objektiin ja lisää siihen sarake `Hatunkoko`, jonka jälkeen täytä se valitsemillasi arvoilla"
   ]
  },
  {
   "cell_type": "code",
   "execution_count": 41,
   "metadata": {},
   "outputs": [
    {
     "name": "stdout",
     "output_type": "stream",
     "text": [
      "    Nimi  Ika  Kengankoko  Hatunkoko\n",
      "0  Teppo   88          47         13\n",
      "1  Matti   34          39         12\n",
      "2  Ilona   41          36         11\n",
      "3  Sonja   32          37         10\n"
     ]
    }
   ],
   "source": [
    "import pandas as pd\n",
    "\n",
    "query = '''SELECT * FROM henkilotaulu'''\n",
    "#data = c.execute(query)\n",
    "#retrieved_data = data.fetchall()\n",
    "#retrieved_data\n",
    "\n",
    "df = pd.read_sql(query, conn)\n",
    "df['Hatunkoko'] = [13,12,11,10]\n",
    "print(df)"
   ]
  },
  {
   "cell_type": "markdown",
   "metadata": {},
   "source": [
    "Tee taulusta kopio, jonka nimi on `henkilotaulukopio` ja lisää siihen rivi valitsemillasi arvoilla"
   ]
  },
  {
   "cell_type": "code",
   "execution_count": 42,
   "metadata": {},
   "outputs": [
    {
     "data": {
      "text/plain": [
       "[(0, 'Teppo', 88, 47, 13),\n",
       " (1, 'Matti', 34, 39, 12),\n",
       " (2, 'Ilona', 41, 36, 11),\n",
       " (3, 'Sonja', 32, 37, 10),\n",
       " (4, 'Matias', 12, 33, 9)]"
      ]
     },
     "execution_count": 42,
     "metadata": {},
     "output_type": "execute_result"
    }
   ],
   "source": [
    "dfKopio = df\n",
    "df.to_sql('henkilotaulukopio', conn, if_exists='replace')\n",
    "\n",
    "newValues = (4, \"Matias\", 12, 33, 9)\n",
    "conn.execute('''INSERT INTO henkilotaulukopio VALUES {0}'''.format(newValues))\n",
    "\n",
    "query = '''SELECT * FROM henkilotaulukopio'''\n",
    "data = c.execute(query)\n",
    "retrieved_data = data.fetchall()\n",
    "retrieved_data"
   ]
  },
  {
   "cell_type": "markdown",
   "metadata": {},
   "source": [
    "Tallenna tietokanta `.db` muotoon ja sulje yhteys"
   ]
  },
  {
   "cell_type": "code",
   "execution_count": 43,
   "metadata": {},
   "outputs": [
    {
     "data": {
      "text/plain": [
       "'kopio.db'"
      ]
     },
     "execution_count": 43,
     "metadata": {},
     "output_type": "execute_result"
    }
   ],
   "source": [
    "conn.close()\n",
    "\n",
    "import shutil\n",
    "\n",
    "shutil.copy2('testi.db', 'kopio.db')"
   ]
  }
 ],
 "metadata": {
  "kernelspec": {
   "display_name": "Python 3",
   "language": "python",
   "name": "python3"
  },
  "language_info": {
   "codemirror_mode": {
    "name": "ipython",
    "version": 3
   },
   "file_extension": ".py",
   "mimetype": "text/x-python",
   "name": "python",
   "nbconvert_exporter": "python",
   "pygments_lexer": "ipython3",
   "version": "3.7.4"
  }
 },
 "nbformat": 4,
 "nbformat_minor": 4
}
